{
 "cells": [
  {
   "cell_type": "markdown",
   "id": "1c736ba9",
   "metadata": {},
   "source": [
    "# Binary Classification example\n",
    "\n",
    "Fisrt we import keras library and spesifically from the keras.datasets the imdb command which contains our data. We also import all the other necessary libraries."
   ]
  },
  {
   "cell_type": "code",
   "execution_count": 1,
   "id": "6a5585f7",
   "metadata": {},
   "outputs": [],
   "source": [
    "from keras.datasets import imdb\n",
    "from keras import models\n",
    "from keras import layers\n",
    "import numpy as np"
   ]
  },
  {
   "cell_type": "markdown",
   "id": "fb2cb9db",
   "metadata": {},
   "source": [
    "Next we load the imdb data to train data with their labels and to test data with their labels.\n",
    "The total number of data is 50.000 and their split in half to train and test data. Also each subset of data has equal number of positive and negative reviews."
   ]
  },
  {
   "cell_type": "code",
   "execution_count": 2,
   "id": "0163a75b",
   "metadata": {},
   "outputs": [],
   "source": [
    "(train_data, train_labels), (test_data, test_labels) = imdb.load_data(num_words=10000)"
   ]
  },
  {
   "cell_type": "markdown",
   "id": "792f0e96",
   "metadata": {},
   "source": [
    "Follows the first sample of data which a list of numbers (features) where each number correspond to a word of dictionary."
   ]
  },
  {
   "cell_type": "code",
   "execution_count": 3,
   "id": "f70e9585",
   "metadata": {},
   "outputs": [
    {
     "data": {
      "text/plain": [
       "[1,\n",
       " 14,\n",
       " 22,\n",
       " 16,\n",
       " 43,\n",
       " 530,\n",
       " 973,\n",
       " 1622,\n",
       " 1385,\n",
       " 65,\n",
       " 458,\n",
       " 4468,\n",
       " 66,\n",
       " 3941,\n",
       " 4,\n",
       " 173,\n",
       " 36,\n",
       " 256,\n",
       " 5,\n",
       " 25,\n",
       " 100,\n",
       " 43,\n",
       " 838,\n",
       " 112,\n",
       " 50,\n",
       " 670,\n",
       " 2,\n",
       " 9,\n",
       " 35,\n",
       " 480,\n",
       " 284,\n",
       " 5,\n",
       " 150,\n",
       " 4,\n",
       " 172,\n",
       " 112,\n",
       " 167,\n",
       " 2,\n",
       " 336,\n",
       " 385,\n",
       " 39,\n",
       " 4,\n",
       " 172,\n",
       " 4536,\n",
       " 1111,\n",
       " 17,\n",
       " 546,\n",
       " 38,\n",
       " 13,\n",
       " 447,\n",
       " 4,\n",
       " 192,\n",
       " 50,\n",
       " 16,\n",
       " 6,\n",
       " 147,\n",
       " 2025,\n",
       " 19,\n",
       " 14,\n",
       " 22,\n",
       " 4,\n",
       " 1920,\n",
       " 4613,\n",
       " 469,\n",
       " 4,\n",
       " 22,\n",
       " 71,\n",
       " 87,\n",
       " 12,\n",
       " 16,\n",
       " 43,\n",
       " 530,\n",
       " 38,\n",
       " 76,\n",
       " 15,\n",
       " 13,\n",
       " 1247,\n",
       " 4,\n",
       " 22,\n",
       " 17,\n",
       " 515,\n",
       " 17,\n",
       " 12,\n",
       " 16,\n",
       " 626,\n",
       " 18,\n",
       " 2,\n",
       " 5,\n",
       " 62,\n",
       " 386,\n",
       " 12,\n",
       " 8,\n",
       " 316,\n",
       " 8,\n",
       " 106,\n",
       " 5,\n",
       " 4,\n",
       " 2223,\n",
       " 5244,\n",
       " 16,\n",
       " 480,\n",
       " 66,\n",
       " 3785,\n",
       " 33,\n",
       " 4,\n",
       " 130,\n",
       " 12,\n",
       " 16,\n",
       " 38,\n",
       " 619,\n",
       " 5,\n",
       " 25,\n",
       " 124,\n",
       " 51,\n",
       " 36,\n",
       " 135,\n",
       " 48,\n",
       " 25,\n",
       " 1415,\n",
       " 33,\n",
       " 6,\n",
       " 22,\n",
       " 12,\n",
       " 215,\n",
       " 28,\n",
       " 77,\n",
       " 52,\n",
       " 5,\n",
       " 14,\n",
       " 407,\n",
       " 16,\n",
       " 82,\n",
       " 2,\n",
       " 8,\n",
       " 4,\n",
       " 107,\n",
       " 117,\n",
       " 5952,\n",
       " 15,\n",
       " 256,\n",
       " 4,\n",
       " 2,\n",
       " 7,\n",
       " 3766,\n",
       " 5,\n",
       " 723,\n",
       " 36,\n",
       " 71,\n",
       " 43,\n",
       " 530,\n",
       " 476,\n",
       " 26,\n",
       " 400,\n",
       " 317,\n",
       " 46,\n",
       " 7,\n",
       " 4,\n",
       " 2,\n",
       " 1029,\n",
       " 13,\n",
       " 104,\n",
       " 88,\n",
       " 4,\n",
       " 381,\n",
       " 15,\n",
       " 297,\n",
       " 98,\n",
       " 32,\n",
       " 2071,\n",
       " 56,\n",
       " 26,\n",
       " 141,\n",
       " 6,\n",
       " 194,\n",
       " 7486,\n",
       " 18,\n",
       " 4,\n",
       " 226,\n",
       " 22,\n",
       " 21,\n",
       " 134,\n",
       " 476,\n",
       " 26,\n",
       " 480,\n",
       " 5,\n",
       " 144,\n",
       " 30,\n",
       " 5535,\n",
       " 18,\n",
       " 51,\n",
       " 36,\n",
       " 28,\n",
       " 224,\n",
       " 92,\n",
       " 25,\n",
       " 104,\n",
       " 4,\n",
       " 226,\n",
       " 65,\n",
       " 16,\n",
       " 38,\n",
       " 1334,\n",
       " 88,\n",
       " 12,\n",
       " 16,\n",
       " 283,\n",
       " 5,\n",
       " 16,\n",
       " 4472,\n",
       " 113,\n",
       " 103,\n",
       " 32,\n",
       " 15,\n",
       " 16,\n",
       " 5345,\n",
       " 19,\n",
       " 178,\n",
       " 32]"
      ]
     },
     "execution_count": 3,
     "metadata": {},
     "output_type": "execute_result"
    }
   ],
   "source": [
    "train_data[0]"
   ]
  },
  {
   "cell_type": "markdown",
   "id": "7db70f74",
   "metadata": {},
   "source": [
    "Next follows the label of the first sample of the training data. The label is an integer number 0 or 1 which notates whether the sample is a positive 1 review or a negative 0 review."
   ]
  },
  {
   "cell_type": "code",
   "execution_count": 4,
   "id": "eadd8f8b",
   "metadata": {},
   "outputs": [
    {
     "data": {
      "text/plain": [
       "1"
      ]
     },
     "execution_count": 4,
     "metadata": {},
     "output_type": "execute_result"
    }
   ],
   "source": [
    "train_labels[0]"
   ]
  },
  {
   "cell_type": "markdown",
   "id": "8ce7e945",
   "metadata": {},
   "source": [
    "How to decode one of the reviews back to english."
   ]
  },
  {
   "cell_type": "code",
   "execution_count": 5,
   "id": "2e5caa9d",
   "metadata": {},
   "outputs": [],
   "source": [
    "word_index = imdb.get_word_index()\n",
    "reverse_word_index = dict([(value, key) for (key, value) in word_index.items()])\n",
    "decoded_review = ' '.join([reverse_word_index.get(i - 3, '?') for i in train_data[0]])"
   ]
  },
  {
   "cell_type": "code",
   "execution_count": 6,
   "id": "bb6c694a",
   "metadata": {},
   "outputs": [
    {
     "data": {
      "text/plain": [
       "\"? this film was just brilliant casting location scenery story direction everyone's really suited the part they played and you could just imagine being there robert ? is an amazing actor and now the same being director ? father came from the same scottish island as myself so i loved the fact there was a real connection with this film the witty remarks throughout the film were great it was just brilliant so much that i bought the film as soon as it was released for ? and would recommend it to everyone to watch and the fly fishing was amazing really cried at the end it was so sad and you know what they say if you cry at a film it must have been good and this definitely was also ? to the two little boy's that played the ? of norman and paul they were just brilliant children are often left out of the ? list i think because the stars that play them all grown up are such a big profile for the whole film but these children are amazing and should be praised for what they have done don't you think the whole story was so lovely because it was true and was someone's life after all that was shared with us all\""
      ]
     },
     "execution_count": 6,
     "metadata": {},
     "output_type": "execute_result"
    }
   ],
   "source": [
    "decoded_review"
   ]
  },
  {
   "cell_type": "markdown",
   "id": "8095318a",
   "metadata": {},
   "source": [
    "## Prepearing the data\n",
    "We must turn the lists to tensors to input them to the neural network.\n",
    "You can’t feed lists of integers into a neural network. You have to turn your lists into\n",
    "tensors. There are two ways to do that:\n",
    "* Pad your lists so that they all have the same length, turn them into an integer\n",
    "tensor of shape (samples, word_indices), and then use as the first layer in\n",
    "your network a layer capable of handling such integer tensors (the Embedding\n",
    "layer, which we’ll cover in detail later in the book).\n",
    "* One-hot encode your lists to turn them into vectors of 0s and 1s. This would\n",
    "mean, for instance, turning the sequence [3, 5] into a 10,000-dimensional vector\n",
    "that would be all 0s except for indices 3 and 5, which would be 1s. Then you\n",
    "could use as the first layer in your network a Dense layer, capable of handling\n",
    "floating-point vector data.\n",
    "\n",
    "Let’s go with the latter solution to vectorize the data, which you’ll do manually for\n",
    "maximum clarity."
   ]
  },
  {
   "cell_type": "code",
   "execution_count": 7,
   "id": "6425eab1",
   "metadata": {},
   "outputs": [],
   "source": [
    "def vectorize_sequences(sequences, dimension=10000):\n",
    "    results = np.zeros((len(sequences),dimension))\n",
    "    for i, sequence in enumerate(sequences):\n",
    "        results[i, sequence] = 1.\n",
    "    return results\n",
    "\n",
    "x_train = vectorize_sequences(train_data)\n",
    "x_test = vectorize_sequences(test_data)"
   ]
  },
  {
   "cell_type": "markdown",
   "id": "e8af9e76",
   "metadata": {},
   "source": [
    "Cosequnetly, the data samples look like this."
   ]
  },
  {
   "cell_type": "code",
   "execution_count": 8,
   "id": "89032ac6",
   "metadata": {},
   "outputs": [
    {
     "data": {
      "text/plain": [
       "array([0., 1., 1., ..., 0., 0., 0.])"
      ]
     },
     "execution_count": 8,
     "metadata": {},
     "output_type": "execute_result"
    }
   ],
   "source": [
    "x_train[0]"
   ]
  },
  {
   "cell_type": "markdown",
   "id": "21b1cfb6",
   "metadata": {},
   "source": [
    "Furthermore, we vectorize the labels too."
   ]
  },
  {
   "cell_type": "code",
   "execution_count": 9,
   "id": "0e9cbcb8",
   "metadata": {},
   "outputs": [],
   "source": [
    "y_train = np.asarray(train_labels).astype('float32')\n",
    "y_test = np.asarray(test_labels).astype('float32')"
   ]
  },
  {
   "cell_type": "markdown",
   "id": "9bd10fe1",
   "metadata": {},
   "source": [
    "Data is ready to be fed to the neural network.\n",
    "A type of network that performs well on such a problem is\n",
    "a simple stack of fully connected (Dense) layers with relu activations: Dense(16, activation='relu').\n",
    "\n",
    "The argument being passed to each Dense layer (16) is the number of hidden\n",
    "units of the layer. A hidden unit is a dimension in the representation space of the layer.\n",
    "You may remember from chapter 2 that each such Dense layer with a relu activation\n",
    "implements the following chain of tensor operations:\n",
    "\n",
    "output = relu(dot(W, input) + b)\n",
    "\n",
    "There are two key architecture decisions to be made about such a stack of Dense layers:\n",
    "* How many layers to use\n",
    "* How many hidden units to choose for each layer\n",
    "\n",
    "For this example the following architecture choices are:\n",
    "* Two intermediate layers with 16 hidden units each\n",
    "* A third layer that will output the scalar prediction regarding the sentiment of the current review\n",
    "\n",
    "The intermediate layers will use relu as their activation function, and the final layer will use a sigmoid activation so as to output a probability. A relu (rectified linear unit) is a function meant to zero out negative values, whereas a sigmoid “squashes” arbitrary values into the [0, 1] interval, outputting something that can be interpreted as a probability."
   ]
  },
  {
   "cell_type": "code",
   "execution_count": 10,
   "id": "65d2b31e",
   "metadata": {},
   "outputs": [],
   "source": [
    "model = models.Sequential()\n",
    "model.add(layers.Dense(16,activation='relu', input_shape=(10000,)))\n",
    "model.add(layers.Dense(16,activation='relu'))\n",
    "model.add(layers.Dense(1,activation='sigmoid'))"
   ]
  },
  {
   "cell_type": "markdown",
   "id": "39681991",
   "metadata": {},
   "source": [
    "Finally we choose a loss function and an optimizer. Because we’re facing a\n",
    "binary classification problem and the output of your network is a probability, it’s best to use the binary_crossentropy loss. Crossentropy is a quantity from the field of Information Theory that measures the distance between probability distributions or, in this case, between the ground-truth distribution and your predictions. And the optimizer we use is the rmsprop."
   ]
  },
  {
   "cell_type": "code",
   "execution_count": 11,
   "id": "d3359de3",
   "metadata": {},
   "outputs": [],
   "source": [
    "model.compile(optimizer='rmsprop',\n",
    "              loss='binary_crossentropy',\n",
    "              metrics=['accuracy'])"
   ]
  },
  {
   "cell_type": "markdown",
   "id": "e299fef4",
   "metadata": {},
   "source": [
    "The optimizer, loss function and the metric we used exist as part of Keras. However when we want to configure parameters in optimizer or pass custom loss function and metrics we can use the following method."
   ]
  },
  {
   "cell_type": "code",
   "execution_count": 12,
   "id": "1df7dee8",
   "metadata": {},
   "outputs": [],
   "source": [
    "from keras import optimizers\n",
    "from keras import losses\n",
    "from keras import metrics\n",
    "\n",
    "model.compile(optimizer=optimizers.RMSprop(learning_rate=0.001),\n",
    "             loss=losses.binary_crossentropy,\n",
    "             metrics=[metrics.binary_accuracy])"
   ]
  },
  {
   "cell_type": "markdown",
   "id": "18c41461",
   "metadata": {},
   "source": [
    "## Validating approach\n",
    "\n",
    "In order to monitor during training the accuracy of the model on data it has never seen before, you’ll create a validation set by setting apart 10,000 samples from the original training data."
   ]
  },
  {
   "cell_type": "code",
   "execution_count": 13,
   "id": "bce9f4f9",
   "metadata": {},
   "outputs": [],
   "source": [
    "x_val = x_train[:10000]\n",
    "partial_x_train = x_train[10000:]\n",
    "y_val = y_train[:10000]\n",
    "partial_y_train = y_train[10000:]"
   ]
  },
  {
   "cell_type": "markdown",
   "id": "717051b8",
   "metadata": {},
   "source": [
    "We tarin the model for 20 epochs (20 iterations over all samples in the x_train and y_train tensors) in mini-baches of 512 samples. At the same time, we will monitor loss and accuracy on the 10000 samples. "
   ]
  },
  {
   "cell_type": "code",
   "execution_count": 14,
   "id": "92b3487b",
   "metadata": {},
   "outputs": [
    {
     "name": "stdout",
     "output_type": "stream",
     "text": [
      "Epoch 1/20\n",
      "30/30 [==============================] - 2s 39ms/step - loss: 0.5347 - acc: 0.7819 - val_loss: 0.4107 - val_acc: 0.8651\n",
      "Epoch 2/20\n",
      "30/30 [==============================] - 1s 20ms/step - loss: 0.3192 - acc: 0.8997 - val_loss: 0.3173 - val_acc: 0.8829\n",
      "Epoch 3/20\n",
      "30/30 [==============================] - 1s 19ms/step - loss: 0.2274 - acc: 0.9264 - val_loss: 0.3247 - val_acc: 0.8683\n",
      "Epoch 4/20\n",
      "30/30 [==============================] - 1s 19ms/step - loss: 0.1773 - acc: 0.9432 - val_loss: 0.2765 - val_acc: 0.8899\n",
      "Epoch 5/20\n",
      "30/30 [==============================] - 1s 19ms/step - loss: 0.1426 - acc: 0.9553 - val_loss: 0.3000 - val_acc: 0.8787\n",
      "Epoch 6/20\n",
      "30/30 [==============================] - 1s 19ms/step - loss: 0.1169 - acc: 0.9645 - val_loss: 0.3131 - val_acc: 0.8779\n",
      "Epoch 7/20\n",
      "30/30 [==============================] - 1s 19ms/step - loss: 0.0947 - acc: 0.9733 - val_loss: 0.3145 - val_acc: 0.8799\n",
      "Epoch 8/20\n",
      "30/30 [==============================] - 1s 19ms/step - loss: 0.0755 - acc: 0.9797 - val_loss: 0.3356 - val_acc: 0.8815\n",
      "Epoch 9/20\n",
      "30/30 [==============================] - 1s 19ms/step - loss: 0.0611 - acc: 0.9851 - val_loss: 0.3603 - val_acc: 0.8791\n",
      "Epoch 10/20\n",
      "30/30 [==============================] - 1s 19ms/step - loss: 0.0467 - acc: 0.9901 - val_loss: 0.4323 - val_acc: 0.8648\n",
      "Epoch 11/20\n",
      "30/30 [==============================] - 1s 19ms/step - loss: 0.0406 - acc: 0.9911 - val_loss: 0.4196 - val_acc: 0.8776\n",
      "Epoch 12/20\n",
      "30/30 [==============================] - 1s 19ms/step - loss: 0.0303 - acc: 0.9931 - val_loss: 0.4513 - val_acc: 0.8744\n",
      "Epoch 13/20\n",
      "30/30 [==============================] - 1s 19ms/step - loss: 0.0225 - acc: 0.9962 - val_loss: 0.4816 - val_acc: 0.8728\n",
      "Epoch 14/20\n",
      "30/30 [==============================] - 1s 19ms/step - loss: 0.0193 - acc: 0.9966 - val_loss: 0.5145 - val_acc: 0.8704\n",
      "Epoch 15/20\n",
      "30/30 [==============================] - 1s 19ms/step - loss: 0.0119 - acc: 0.9990 - val_loss: 0.5569 - val_acc: 0.8726\n",
      "Epoch 16/20\n",
      "30/30 [==============================] - 1s 19ms/step - loss: 0.0129 - acc: 0.9975 - val_loss: 0.5861 - val_acc: 0.8702\n",
      "Epoch 17/20\n",
      "30/30 [==============================] - 1s 19ms/step - loss: 0.0055 - acc: 0.9997 - val_loss: 0.6344 - val_acc: 0.8698\n",
      "Epoch 18/20\n",
      "30/30 [==============================] - 1s 19ms/step - loss: 0.0090 - acc: 0.9982 - val_loss: 0.6591 - val_acc: 0.8702\n",
      "Epoch 19/20\n",
      "30/30 [==============================] - 1s 19ms/step - loss: 0.0029 - acc: 0.9998 - val_loss: 0.6955 - val_acc: 0.8697\n",
      "Epoch 20/20\n",
      "30/30 [==============================] - 1s 19ms/step - loss: 0.0050 - acc: 0.9989 - val_loss: 0.7313 - val_acc: 0.8691\n"
     ]
    }
   ],
   "source": [
    "model.compile(optimizer='rmsprop',\n",
    "             loss='binary_crossentropy',\n",
    "             metrics=['acc'])\n",
    "\n",
    "history = model.fit(partial_x_train,\n",
    "                   partial_y_train,\n",
    "                   epochs=20,\n",
    "                   batch_size=512,\n",
    "                   validation_data=(x_val,y_val))"
   ]
  },
  {
   "cell_type": "code",
   "execution_count": 15,
   "id": "7b92b860",
   "metadata": {},
   "outputs": [
    {
     "data": {
      "text/plain": [
       "dict_keys(['loss', 'acc', 'val_loss', 'val_acc'])"
      ]
     },
     "execution_count": 15,
     "metadata": {},
     "output_type": "execute_result"
    }
   ],
   "source": [
    "history_dict = history.history\n",
    "history_dict.keys()"
   ]
  },
  {
   "cell_type": "code",
   "execution_count": 16,
   "id": "cff00ad9",
   "metadata": {},
   "outputs": [
    {
     "data": {
      "image/png": "[encoded data removed]",
      "text/plain": [
       "<Figure size 432x288 with 1 Axes>"
      ]
     },
     "metadata": {
      "needs_background": "light"
     },
     "output_type": "display_data"
    }
   ],
   "source": [
    "import matplotlib.pyplot as plt\n",
    "\n",
    "loss_values = history_dict['loss']\n",
    "val_loss_values = history_dict['val_loss']\n",
    "\n",
    "epochs = range(1, 21)\n",
    "\n",
    "plt.plot(epochs, loss_values, 'bo', label='Training loss')\n",
    "plt.plot(epochs, val_loss_values, 'b', label='Validation loss')\n",
    "plt.title('Training and validation loss')\n",
    "plt.xlabel('Epochs')\n",
    "plt.ylabel('Loss')\n",
    "plt.legend()\n",
    "plt.show()"
   ]
  },
  {
   "cell_type": "code",
   "execution_count": 17,
   "id": "8a968242",
   "metadata": {},
   "outputs": [
    {
     "data": {
      "image/png": "[encoded data removed]",
      "text/plain": [
       "<Figure size 432x288 with 1 Axes>"
      ]
     },
     "metadata": {
      "needs_background": "light"
     },
     "output_type": "display_data"
    }
   ],
   "source": [
    "plt.clf()\n",
    "acc_values = history_dict['acc']\n",
    "val_acc_values = history_dict['val_acc']\n",
    "\n",
    "plt.plot(epochs, acc_values, 'bo', label='Training acc')\n",
    "plt.plot(epochs, val_acc_values, 'b', label='Validation acc')\n",
    "plt.title('Training and validation accuracy')\n",
    "plt.xlabel('Epochs')\n",
    "plt.ylabel('Accurancy')\n",
    "plt.legend()\n",
    "plt.show()"
   ]
  },
  {
   "cell_type": "markdown",
   "id": "fc16fd43",
   "metadata": {},
   "source": [
    "We notice that while the loss decreases and the accuracy increases for the training data monoticly the same is not true for the validation data. We observe that after the 4th epoch the loss instead of decreasing increases and the accuracy decreases. Through these observations it is apparent that the problem of overfitting is present. \n",
    "\n",
    "In this case to prevent overfitting we stop training the model after 4 epochs."
   ]
  },
  {
   "cell_type": "code",
   "execution_count": 18,
   "id": "02f77937",
   "metadata": {},
   "outputs": [
    {
     "name": "stdout",
     "output_type": "stream",
     "text": [
      "Epoch 1/4\n",
      "49/49 [==============================] - 2s 11ms/step - loss: 0.4784 - accuracy: 0.7951\n",
      "Epoch 2/4\n",
      "49/49 [==============================] - 1s 12ms/step - loss: 0.2668 - accuracy: 0.9069\n",
      "Epoch 3/4\n",
      "49/49 [==============================] - 1s 11ms/step - loss: 0.2046 - accuracy: 0.9268\n",
      "Epoch 4/4\n",
      "49/49 [==============================] - 1s 11ms/step - loss: 0.1676 - accuracy: 0.9420\n",
      "782/782 [==============================] - 2s 3ms/step - loss: 0.2949 - accuracy: 0.8836\n"
     ]
    }
   ],
   "source": [
    "model = models.Sequential()\n",
    "model.add(layers.Dense(16, activation='relu', input_shape=(10000,)))\n",
    "model.add(layers.Dense(16, activation='relu'))\n",
    "model.add(layers.Dense(1, activation='sigmoid'))\n",
    "\n",
    "model.compile(optimizer='rmsprop',\n",
    "             loss='binary_crossentropy',\n",
    "             metrics=['accuracy'])\n",
    "\n",
    "model.fit(x_train, y_train, epochs=4, batch_size=512)\n",
    "results = model.evaluate(x_test, y_test)"
   ]
  },
  {
   "cell_type": "code",
   "execution_count": 19,
   "id": "ef673a64",
   "metadata": {},
   "outputs": [
    {
     "data": {
      "text/plain": [
       "[0.2949334979057312, 0.8835999965667725]"
      ]
     },
     "execution_count": 19,
     "metadata": {},
     "output_type": "execute_result"
    }
   ],
   "source": [
    "results"
   ]
  },
  {
   "cell_type": "markdown",
   "id": "1373e805",
   "metadata": {},
   "source": [
    "The accuracy achieved is of 88% with this naive approach. While with state pf the art approach is possible and 95%."
   ]
  },
  {
   "cell_type": "markdown",
   "id": "84311cfc",
   "metadata": {},
   "source": [
    "## Using a trained network on new data."
   ]
  },
  {
   "cell_type": "code",
   "execution_count": 20,
   "id": "9eb56cce",
   "metadata": {},
   "outputs": [
    {
     "name": "stdout",
     "output_type": "stream",
     "text": [
      "782/782 [==============================] - 2s 2ms/step\n"
     ]
    },
    {
     "data": {
      "text/plain": [
       "array([[0.20654814],\n",
       "       [0.9999925 ],\n",
       "       [0.9373169 ],\n",
       "       ...,\n",
       "       [0.13589425],\n",
       "       [0.11089706],\n",
       "       [0.6203871 ]], dtype=float32)"
      ]
     },
     "execution_count": 20,
     "metadata": {},
     "output_type": "execute_result"
    }
   ],
   "source": [
    "model.predict(x_test)"
   ]
  },
  {
   "cell_type": "markdown",
   "id": "5d16df63",
   "metadata": {},
   "source": [
    "## Further Experiments\n",
    "\n",
    "* You used two hidden layers. Try using one or three hidden layers, and see how doing so affects validation and test accuracy.\n",
    "* Try using layers with more hidden units or fewer hidden units: 32 units, 64 units, and so on.\n",
    "* Try using the mse loss function instead of binary_crossentropy.\n",
    "* Try using the tanh activation (an activation that was popular in the early days of neural networks) instead of relu.\n",
    "\n",
    "## Regularization techniques\n",
    "\n",
    "Let’s review some of the most common regularization techniques and apply them in practice to improve the movie-classification model.\n",
    "\n",
    "We replace the model with a smaller network."
   ]
  },
  {
   "cell_type": "code",
   "execution_count": 21,
   "id": "cd6e1b0c",
   "metadata": {},
   "outputs": [],
   "source": [
    "model2 = models.Sequential()\n",
    "model2.add(layers.Dense(4,activation='relu',input_shape=(10000,)))\n",
    "model2.add(layers.Dense(4,activation='relu'))\n",
    "model2.add(layers.Dense(1,activation='sigmoid'))"
   ]
  },
  {
   "cell_type": "code",
   "execution_count": 22,
   "id": "34e5deea",
   "metadata": {},
   "outputs": [
    {
     "name": "stdout",
     "output_type": "stream",
     "text": [
      "Epoch 1/20\n",
      "30/30 [==============================] - 2s 35ms/step - loss: 0.6001 - acc: 0.7718 - val_loss: 0.5249 - val_acc: 0.8205\n",
      "Epoch 2/20\n",
      "30/30 [==============================] - 1s 18ms/step - loss: 0.4527 - acc: 0.8752 - val_loss: 0.4224 - val_acc: 0.8657\n",
      "Epoch 3/20\n",
      "30/30 [==============================] - 1s 18ms/step - loss: 0.3598 - acc: 0.8981 - val_loss: 0.3598 - val_acc: 0.8774\n",
      "Epoch 4/20\n",
      "30/30 [==============================] - 1s 18ms/step - loss: 0.2966 - acc: 0.9126 - val_loss: 0.3222 - val_acc: 0.8844\n",
      "Epoch 5/20\n",
      "30/30 [==============================] - 1s 18ms/step - loss: 0.2511 - acc: 0.9246 - val_loss: 0.3019 - val_acc: 0.8855\n",
      "Epoch 6/20\n",
      "30/30 [==============================] - 1s 18ms/step - loss: 0.2172 - acc: 0.9328 - val_loss: 0.2836 - val_acc: 0.8920\n",
      "Epoch 7/20\n",
      "30/30 [==============================] - 1s 18ms/step - loss: 0.1907 - acc: 0.9409 - val_loss: 0.2751 - val_acc: 0.8918\n",
      "Epoch 8/20\n",
      "30/30 [==============================] - 1s 18ms/step - loss: 0.1690 - acc: 0.9479 - val_loss: 0.2729 - val_acc: 0.8912\n",
      "Epoch 9/20\n",
      "30/30 [==============================] - 1s 18ms/step - loss: 0.1514 - acc: 0.9541 - val_loss: 0.2806 - val_acc: 0.8866\n",
      "Epoch 10/20\n",
      "30/30 [==============================] - 1s 19ms/step - loss: 0.1362 - acc: 0.9588 - val_loss: 0.2761 - val_acc: 0.8919\n",
      "Epoch 11/20\n",
      "30/30 [==============================] - 1s 18ms/step - loss: 0.1229 - acc: 0.9642 - val_loss: 0.2827 - val_acc: 0.8893\n",
      "Epoch 12/20\n",
      "30/30 [==============================] - 1s 18ms/step - loss: 0.1110 - acc: 0.9679 - val_loss: 0.2870 - val_acc: 0.8874\n",
      "Epoch 13/20\n",
      "30/30 [==============================] - 1s 18ms/step - loss: 0.1000 - acc: 0.9718 - val_loss: 0.2975 - val_acc: 0.8877\n",
      "Epoch 14/20\n",
      "30/30 [==============================] - 1s 18ms/step - loss: 0.0907 - acc: 0.9750 - val_loss: 0.3041 - val_acc: 0.8858\n",
      "Epoch 15/20\n",
      "30/30 [==============================] - 1s 18ms/step - loss: 0.0810 - acc: 0.9787 - val_loss: 0.3177 - val_acc: 0.8830\n",
      "Epoch 16/20\n",
      "30/30 [==============================] - 1s 18ms/step - loss: 0.0733 - acc: 0.9813 - val_loss: 0.3275 - val_acc: 0.8818\n",
      "Epoch 17/20\n",
      "30/30 [==============================] - 1s 18ms/step - loss: 0.0652 - acc: 0.9845 - val_loss: 0.3397 - val_acc: 0.8826\n",
      "Epoch 18/20\n",
      "30/30 [==============================] - 1s 18ms/step - loss: 0.0584 - acc: 0.9866 - val_loss: 0.3561 - val_acc: 0.8824\n",
      "Epoch 19/20\n",
      "30/30 [==============================] - 1s 18ms/step - loss: 0.0524 - acc: 0.9881 - val_loss: 0.3680 - val_acc: 0.8799\n",
      "Epoch 20/20\n",
      "30/30 [==============================] - 1s 18ms/step - loss: 0.0463 - acc: 0.9900 - val_loss: 0.3842 - val_acc: 0.8780\n"
     ]
    }
   ],
   "source": [
    "model2.compile(optimizer='rmsprop',\n",
    "             loss='binary_crossentropy',\n",
    "             metrics=['acc'])\n",
    "\n",
    "history2 = model2.fit(partial_x_train,\n",
    "                   partial_y_train,\n",
    "                   epochs=20,\n",
    "                   batch_size=512,\n",
    "                   validation_data=(x_val,y_val))"
   ]
  },
  {
   "cell_type": "code",
   "execution_count": 23,
   "id": "e2f8583c",
   "metadata": {},
   "outputs": [
    {
     "data": {
      "image/png": "[encoded data removed]",
      "text/plain": [
       "<Figure size 432x288 with 1 Axes>"
      ]
     },
     "metadata": {
      "needs_background": "light"
     },
     "output_type": "display_data"
    }
   ],
   "source": [
    "history2_dict = history2.history\n",
    "history2_dict.keys()\n",
    "\n",
    "loss_values_smaller = history2_dict['val_loss']\n",
    "\n",
    "epochs = range(1, 21)\n",
    "\n",
    "plt.plot(epochs, val_loss_values, '+', label='Original loss')\n",
    "plt.plot(epochs, loss_values_smaller, 'bo', label='Smaller loss')\n",
    "plt.title('Original and smaller model validation loss')\n",
    "plt.xlabel('Epochs')\n",
    "plt.ylabel('Validation Loss')\n",
    "plt.legend()\n",
    "plt.show()"
   ]
  },
  {
   "cell_type": "markdown",
   "id": "27ba7f91",
   "metadata": {},
   "source": [
    "As we can see the smaller network starts overfitting later than the reference network (here after 7 epochs rather than four) and its performance degrades slowly once it starts overfitting.\n",
    "\n",
    "Now lets add to this benchmark a network that has much more capacity."
   ]
  },
  {
   "cell_type": "code",
   "execution_count": 24,
   "id": "37e37f40",
   "metadata": {},
   "outputs": [],
   "source": [
    "model3 = models.Sequential()\n",
    "model3.add(layers.Dense(512,activation='relu',input_shape=(10000,)))\n",
    "model3.add(layers.Dense(512,activation='relu'))\n",
    "model3.add(layers.Dense(1,activation='sigmoid'))"
   ]
  },
  {
   "cell_type": "code",
   "execution_count": 25,
   "id": "52587e59",
   "metadata": {},
   "outputs": [
    {
     "name": "stdout",
     "output_type": "stream",
     "text": [
      "Epoch 1/20\n",
      "30/30 [==============================] - 7s 208ms/step - loss: 0.5361 - acc: 0.7505 - val_loss: 0.6217 - val_acc: 0.7089\n",
      "Epoch 2/20\n",
      "30/30 [==============================] - 3s 107ms/step - loss: 0.2590 - acc: 0.8973 - val_loss: 0.3143 - val_acc: 0.8635\n",
      "Epoch 3/20\n",
      "30/30 [==============================] - 3s 112ms/step - loss: 0.1490 - acc: 0.9431 - val_loss: 0.3782 - val_acc: 0.8683\n",
      "Epoch 4/20\n",
      "30/30 [==============================] - 3s 106ms/step - loss: 0.1001 - acc: 0.9692 - val_loss: 0.3773 - val_acc: 0.8888\n",
      "Epoch 5/20\n",
      "30/30 [==============================] - 3s 108ms/step - loss: 0.0125 - acc: 0.9967 - val_loss: 0.4913 - val_acc: 0.8771\n",
      "Epoch 6/20\n",
      "30/30 [==============================] - 3s 105ms/step - loss: 0.0015 - acc: 0.9998 - val_loss: 0.6221 - val_acc: 0.8782\n",
      "Epoch 7/20\n",
      "30/30 [==============================] - 3s 103ms/step - loss: 1.1533e-04 - acc: 1.0000 - val_loss: 0.7236 - val_acc: 0.8840\n",
      "Epoch 8/20\n",
      "30/30 [==============================] - 3s 103ms/step - loss: 1.5836e-05 - acc: 1.0000 - val_loss: 0.8362 - val_acc: 0.8828\n",
      "Epoch 9/20\n",
      "30/30 [==============================] - 3s 106ms/step - loss: 3.3803e-06 - acc: 1.0000 - val_loss: 0.9364 - val_acc: 0.8828\n",
      "Epoch 10/20\n",
      "30/30 [==============================] - 3s 104ms/step - loss: 8.1165e-07 - acc: 1.0000 - val_loss: 1.0230 - val_acc: 0.8836\n",
      "Epoch 11/20\n",
      "30/30 [==============================] - 3s 103ms/step - loss: 2.5774e-07 - acc: 1.0000 - val_loss: 1.1016 - val_acc: 0.8833\n",
      "Epoch 12/20\n",
      "30/30 [==============================] - 3s 103ms/step - loss: 9.4545e-08 - acc: 1.0000 - val_loss: 1.1597 - val_acc: 0.8829\n",
      "Epoch 13/20\n",
      "30/30 [==============================] - 3s 103ms/step - loss: 4.3701e-08 - acc: 1.0000 - val_loss: 1.1999 - val_acc: 0.8831\n",
      "Epoch 14/20\n",
      "30/30 [==============================] - 3s 102ms/step - loss: 2.6171e-08 - acc: 1.0000 - val_loss: 1.2263 - val_acc: 0.8833\n",
      "Epoch 15/20\n",
      "30/30 [==============================] - 3s 103ms/step - loss: 1.8361e-08 - acc: 1.0000 - val_loss: 1.2467 - val_acc: 0.8832\n",
      "Epoch 16/20\n",
      "30/30 [==============================] - 3s 105ms/step - loss: 1.4094e-08 - acc: 1.0000 - val_loss: 1.2634 - val_acc: 0.8832\n",
      "Epoch 17/20\n",
      "30/30 [==============================] - 3s 103ms/step - loss: 1.1500e-08 - acc: 1.0000 - val_loss: 1.2745 - val_acc: 0.8831\n",
      "Epoch 18/20\n",
      "30/30 [==============================] - 3s 101ms/step - loss: 9.6720e-09 - acc: 1.0000 - val_loss: 1.2845 - val_acc: 0.8826\n",
      "Epoch 19/20\n",
      "30/30 [==============================] - 3s 105ms/step - loss: 8.3836e-09 - acc: 1.0000 - val_loss: 1.2939 - val_acc: 0.8830\n",
      "Epoch 20/20\n",
      "30/30 [==============================] - 3s 104ms/step - loss: 7.3877e-09 - acc: 1.0000 - val_loss: 1.3008 - val_acc: 0.8826\n"
     ]
    }
   ],
   "source": [
    "model3.compile(optimizer='rmsprop',\n",
    "             loss='binary_crossentropy',\n",
    "             metrics=['acc'])\n",
    "\n",
    "history3 = model3.fit(partial_x_train,\n",
    "                   partial_y_train,\n",
    "                   epochs=20,\n",
    "                   batch_size=512,\n",
    "                   validation_data=(x_val,y_val))"
   ]
  },
  {
   "cell_type": "code",
   "execution_count": 26,
   "id": "a2c9b45b",
   "metadata": {},
   "outputs": [
    {
     "data": {
      "image/png": "[encoded data removed]",
      "text/plain": [
       "<Figure size 432x288 with 1 Axes>"
      ]
     },
     "metadata": {
      "needs_background": "light"
     },
     "output_type": "display_data"
    }
   ],
   "source": [
    "history3_dict = history3.history\n",
    "history3_dict.keys()\n",
    "\n",
    "loss_values_bigger = history3_dict['val_loss']\n",
    "\n",
    "epochs = range(1, 21)\n",
    "\n",
    "plt.plot(epochs, val_loss_values, '+', label='Original loss')\n",
    "plt.plot(epochs, loss_values_bigger, 'bo', label='Bigger loss')\n",
    "plt.title('Original and bigger model validation loss')\n",
    "plt.xlabel('Epochs')\n",
    "plt.ylabel('Validation Loss')\n",
    "plt.legend()\n",
    "plt.show()"
   ]
  },
  {
   "cell_type": "markdown",
   "id": "6f618270",
   "metadata": {},
   "source": [
    "The bigger network starts overfitting almost immediately, after just one epoch, and it overfits much more severely."
   ]
  },
  {
   "cell_type": "code",
   "execution_count": 27,
   "id": "43200b5c",
   "metadata": {},
   "outputs": [
    {
     "data": {
      "image/png": "[encoded data removed]",
      "text/plain": [
       "<Figure size 432x288 with 1 Axes>"
      ]
     },
     "metadata": {
      "needs_background": "light"
     },
     "output_type": "display_data"
    }
   ],
   "source": [
    "loss_values_bigger_t = history3_dict['loss']\n",
    "\n",
    "epochs = range(1, 21)\n",
    "\n",
    "plt.plot(epochs, loss_values, '+', label='Original loss')\n",
    "plt.plot(epochs, loss_values_bigger_t, 'bo', label='Bigger loss')\n",
    "plt.title('Original and bigger model training loss')\n",
    "plt.xlabel('Epochs')\n",
    "plt.ylabel('Training Loss')\n",
    "plt.legend()\n",
    "plt.show()"
   ]
  },
  {
   "cell_type": "markdown",
   "id": "1efe71d1",
   "metadata": {},
   "source": [
    "The more capacity the network has, the more quickly it can model the training data (resulting in a low training loss), but the more susceptible it is to overfitting."
   ]
  },
  {
   "cell_type": "markdown",
   "id": "a064dba6",
   "metadata": {},
   "source": [
    "## Adding weight regularization\n",
    "\n",
    "Α common way to mitigate overfitting is to put constraints on the complexity of a network by forcing its weights to take only small values, which makes the distribution of weight values more regular. This is called weight regularization, and it’s done by adding to the loss function of the network a cost associated with having large weights. This cost comes in two flavors:\n",
    "* L1 regularization—The cost added is proportional to the absolute value of the weight coefficients (the L1 norm of the weights).\n",
    "* L2 regularization—The cost added is proportional to the square of the value of the weight coefficients (the L2 norm of the weights). L2 regularization is also called weight decay in the context of neural networks. Don’t let the different name confuse you: weight decay is mathematically the same as L2 regularization.\n",
    "\n",
    "Now let’s add L2 weight regularization to the network."
   ]
  },
  {
   "cell_type": "code",
   "execution_count": 28,
   "id": "8b81a884",
   "metadata": {},
   "outputs": [],
   "source": [
    "from keras import regularizers\n",
    "\n",
    "model4 = models.Sequential()\n",
    "model4.add(layers.Dense(16,kernel_regularizer=regularizers.l2(0.001),\n",
    "                       activation='relu',input_shape=(10000,)))\n",
    "model4.add(layers.Dense(16,kernel_regularizer=regularizers.l2(0.001),\n",
    "                      activation='relu'))\n",
    "model4.add(layers.Dense(1,activation='sigmoid'))"
   ]
  },
  {
   "cell_type": "code",
   "execution_count": 29,
   "id": "c337a871",
   "metadata": {},
   "outputs": [
    {
     "name": "stdout",
     "output_type": "stream",
     "text": [
      "Epoch 1/20\n",
      "30/30 [==============================] - 2s 37ms/step - loss: 0.5677 - acc: 0.7827 - val_loss: 0.4539 - val_acc: 0.8439\n",
      "Epoch 2/20\n",
      "30/30 [==============================] - 1s 19ms/step - loss: 0.3693 - acc: 0.8950 - val_loss: 0.3673 - val_acc: 0.8808\n",
      "Epoch 3/20\n",
      "30/30 [==============================] - 1s 19ms/step - loss: 0.2952 - acc: 0.9191 - val_loss: 0.3361 - val_acc: 0.8891\n",
      "Epoch 4/20\n",
      "30/30 [==============================] - 1s 19ms/step - loss: 0.2602 - acc: 0.9290 - val_loss: 0.3310 - val_acc: 0.8874\n",
      "Epoch 5/20\n",
      "30/30 [==============================] - 1s 19ms/step - loss: 0.2422 - acc: 0.9377 - val_loss: 0.3448 - val_acc: 0.8816\n",
      "Epoch 6/20\n",
      "30/30 [==============================] - 1s 19ms/step - loss: 0.2234 - acc: 0.9457 - val_loss: 0.3430 - val_acc: 0.8848\n",
      "Epoch 7/20\n",
      "30/30 [==============================] - 1s 19ms/step - loss: 0.2095 - acc: 0.9519 - val_loss: 0.3858 - val_acc: 0.8722\n",
      "Epoch 8/20\n",
      "30/30 [==============================] - 1s 19ms/step - loss: 0.2075 - acc: 0.9516 - val_loss: 0.3526 - val_acc: 0.8835\n",
      "Epoch 9/20\n",
      "30/30 [==============================] - 1s 19ms/step - loss: 0.1956 - acc: 0.9567 - val_loss: 0.3598 - val_acc: 0.8836\n",
      "Epoch 10/20\n",
      "30/30 [==============================] - 1s 19ms/step - loss: 0.1897 - acc: 0.9571 - val_loss: 0.3754 - val_acc: 0.8760\n",
      "Epoch 11/20\n",
      "30/30 [==============================] - 1s 19ms/step - loss: 0.1845 - acc: 0.9611 - val_loss: 0.3823 - val_acc: 0.8779\n",
      "Epoch 12/20\n",
      "30/30 [==============================] - 1s 19ms/step - loss: 0.1789 - acc: 0.9619 - val_loss: 0.3886 - val_acc: 0.8782\n",
      "Epoch 13/20\n",
      "30/30 [==============================] - 1s 19ms/step - loss: 0.1767 - acc: 0.9635 - val_loss: 0.4024 - val_acc: 0.8737\n",
      "Epoch 14/20\n",
      "30/30 [==============================] - 1s 19ms/step - loss: 0.1758 - acc: 0.9631 - val_loss: 0.3950 - val_acc: 0.8772\n",
      "Epoch 15/20\n",
      "30/30 [==============================] - 1s 19ms/step - loss: 0.1675 - acc: 0.9672 - val_loss: 0.4549 - val_acc: 0.8591\n",
      "Epoch 16/20\n",
      "30/30 [==============================] - 1s 19ms/step - loss: 0.1672 - acc: 0.9663 - val_loss: 0.4084 - val_acc: 0.8735\n",
      "Epoch 17/20\n",
      "30/30 [==============================] - 1s 19ms/step - loss: 0.1662 - acc: 0.9659 - val_loss: 0.4138 - val_acc: 0.8769\n",
      "Epoch 18/20\n",
      "30/30 [==============================] - 1s 19ms/step - loss: 0.1568 - acc: 0.9698 - val_loss: 0.4184 - val_acc: 0.8736\n",
      "Epoch 19/20\n",
      "30/30 [==============================] - 1s 19ms/step - loss: 0.1594 - acc: 0.9673 - val_loss: 0.4406 - val_acc: 0.8666\n",
      "Epoch 20/20\n",
      "30/30 [==============================] - 1s 18ms/step - loss: 0.1572 - acc: 0.9673 - val_loss: 0.4367 - val_acc: 0.8687\n"
     ]
    }
   ],
   "source": [
    "model4.compile(optimizer='rmsprop',\n",
    "             loss='binary_crossentropy',\n",
    "             metrics=['acc'])\n",
    "\n",
    "history4 = model4.fit(partial_x_train,\n",
    "                   partial_y_train,\n",
    "                   epochs=20,\n",
    "                   batch_size=512,\n",
    "                   validation_data=(x_val,y_val))"
   ]
  },
  {
   "cell_type": "code",
   "execution_count": 30,
   "id": "a3707abe",
   "metadata": {},
   "outputs": [
    {
     "data": {
      "image/png": "[encoded data removed]",
      "text/plain": [
       "<Figure size 432x288 with 1 Axes>"
      ]
     },
     "metadata": {
      "needs_background": "light"
     },
     "output_type": "display_data"
    }
   ],
   "source": [
    "history4_dict = history4.history\n",
    "history4_dict.keys()\n",
    "\n",
    "loss_values_L2reg = history4_dict['val_loss']\n",
    "\n",
    "epochs = range(1, 21)\n",
    "\n",
    "plt.plot(epochs, val_loss_values, '+', label='Original model')\n",
    "plt.plot(epochs, loss_values_L2reg, 'bo', label='L2-regularized model')\n",
    "plt.title('Original and L2-regularized model validation loss')\n",
    "plt.xlabel('Epochs')\n",
    "plt.ylabel('Validation Loss')\n",
    "plt.legend()\n",
    "plt.show()"
   ]
  },
  {
   "cell_type": "markdown",
   "id": "9794fdb0",
   "metadata": {},
   "source": [
    "As an alternative to L2 regularization, you can use one of the following Keras weight regularizers.\n",
    "\n",
    "from keras import regularizers\n",
    "\n",
    "regularizers.l1(0.001)\n",
    "\n",
    "regularizers.l1_l2(l1=0.001, l2=0.001)"
   ]
  },
  {
   "cell_type": "code",
   "execution_count": 31,
   "id": "4f4ae2f2",
   "metadata": {},
   "outputs": [
    {
     "name": "stdout",
     "output_type": "stream",
     "text": [
      "Epoch 1/20\n",
      "30/30 [==============================] - 2s 38ms/step - loss: 1.1002 - acc: 0.6893 - val_loss: 0.7543 - val_acc: 0.8114\n",
      "Epoch 2/20\n",
      "30/30 [==============================] - 1s 20ms/step - loss: 0.7125 - acc: 0.8167 - val_loss: 0.6925 - val_acc: 0.8532\n",
      "Epoch 3/20\n",
      "30/30 [==============================] - 1s 20ms/step - loss: 0.6520 - acc: 0.8443 - val_loss: 0.6355 - val_acc: 0.8538\n",
      "Epoch 4/20\n",
      "30/30 [==============================] - 1s 19ms/step - loss: 0.6087 - acc: 0.8557 - val_loss: 0.6051 - val_acc: 0.8574\n",
      "Epoch 5/20\n",
      "30/30 [==============================] - 1s 19ms/step - loss: 0.5795 - acc: 0.8627 - val_loss: 0.5898 - val_acc: 0.8512\n",
      "Epoch 6/20\n",
      "30/30 [==============================] - 1s 20ms/step - loss: 0.5610 - acc: 0.8661 - val_loss: 0.5763 - val_acc: 0.8590\n",
      "Epoch 7/20\n",
      "30/30 [==============================] - 1s 20ms/step - loss: 0.5530 - acc: 0.8626 - val_loss: 0.5665 - val_acc: 0.8608\n",
      "Epoch 8/20\n",
      "30/30 [==============================] - 1s 19ms/step - loss: 0.5403 - acc: 0.8694 - val_loss: 0.5569 - val_acc: 0.8615\n",
      "Epoch 9/20\n",
      "30/30 [==============================] - 1s 19ms/step - loss: 0.5362 - acc: 0.8665 - val_loss: 0.5423 - val_acc: 0.8686\n",
      "Epoch 10/20\n",
      "30/30 [==============================] - 1s 19ms/step - loss: 0.5219 - acc: 0.8739 - val_loss: 0.5401 - val_acc: 0.8660\n",
      "Epoch 11/20\n",
      "30/30 [==============================] - 1s 19ms/step - loss: 0.5213 - acc: 0.8733 - val_loss: 0.5299 - val_acc: 0.8675\n",
      "Epoch 12/20\n",
      "30/30 [==============================] - 1s 20ms/step - loss: 0.5137 - acc: 0.8731 - val_loss: 0.5341 - val_acc: 0.8676\n",
      "Epoch 13/20\n",
      "30/30 [==============================] - 1s 20ms/step - loss: 0.5139 - acc: 0.8759 - val_loss: 0.5427 - val_acc: 0.8652\n",
      "Epoch 14/20\n",
      "30/30 [==============================] - 1s 20ms/step - loss: 0.5038 - acc: 0.8797 - val_loss: 0.5227 - val_acc: 0.8725\n",
      "Epoch 15/20\n",
      "30/30 [==============================] - 1s 21ms/step - loss: 0.5040 - acc: 0.8761 - val_loss: 0.5643 - val_acc: 0.8489\n",
      "Epoch 16/20\n",
      "30/30 [==============================] - 1s 19ms/step - loss: 0.5021 - acc: 0.8783 - val_loss: 0.5252 - val_acc: 0.8699\n",
      "Epoch 17/20\n",
      "30/30 [==============================] - 1s 20ms/step - loss: 0.4976 - acc: 0.8811 - val_loss: 0.5204 - val_acc: 0.8734\n",
      "Epoch 18/20\n",
      "30/30 [==============================] - 1s 20ms/step - loss: 0.4951 - acc: 0.8816 - val_loss: 0.5191 - val_acc: 0.8756\n",
      "Epoch 19/20\n",
      "30/30 [==============================] - 1s 19ms/step - loss: 0.4852 - acc: 0.8886 - val_loss: 0.5090 - val_acc: 0.8766\n",
      "Epoch 20/20\n",
      "30/30 [==============================] - 1s 18ms/step - loss: 0.4895 - acc: 0.8827 - val_loss: 0.5352 - val_acc: 0.8641\n"
     ]
    },
    {
     "data": {
      "image/png": "[encoded data removed]",
      "text/plain": [
       "<Figure size 432x288 with 1 Axes>"
      ]
     },
     "metadata": {
      "needs_background": "light"
     },
     "output_type": "display_data"
    }
   ],
   "source": [
    "model5 = models.Sequential()\n",
    "model5.add(layers.Dense(16,kernel_regularizer=regularizers.l1(0.001),\n",
    "                       activation='relu',input_shape=(10000,)))\n",
    "model5.add(layers.Dense(16,kernel_regularizer=regularizers.l1(0.001),\n",
    "                      activation='relu'))\n",
    "model5.add(layers.Dense(1,activation='sigmoid'))\n",
    "\n",
    "model5.compile(optimizer='rmsprop',\n",
    "             loss='binary_crossentropy',\n",
    "             metrics=['acc'])\n",
    "\n",
    "history5 = model5.fit(partial_x_train,\n",
    "                   partial_y_train,\n",
    "                   epochs=20,\n",
    "                   batch_size=512,\n",
    "                   validation_data=(x_val,y_val))\n",
    "\n",
    "history5_dict = history5.history\n",
    "history5_dict.keys()\n",
    "\n",
    "loss_values_L1reg = history5_dict['val_loss']\n",
    "\n",
    "epochs = range(1, 21)\n",
    "\n",
    "plt.plot(epochs, val_loss_values, '+', label='Original model')\n",
    "plt.plot(epochs, loss_values_L1reg, 'bo', label='L1-regularized model')\n",
    "plt.title('Original and L1-regularized model validation loss')\n",
    "plt.xlabel('Epochs')\n",
    "plt.ylabel('Validation Loss')\n",
    "plt.legend()\n",
    "plt.show()"
   ]
  },
  {
   "cell_type": "code",
   "execution_count": 32,
   "id": "e0fe6175",
   "metadata": {},
   "outputs": [
    {
     "name": "stdout",
     "output_type": "stream",
     "text": [
      "Epoch 1/20\n",
      "30/30 [==============================] - 5s 37ms/step - loss: 1.0829 - acc: 0.7578 - val_loss: 0.7197 - val_acc: 0.8059\n",
      "Epoch 2/20\n",
      "30/30 [==============================] - 1s 19ms/step - loss: 0.6595 - acc: 0.8485 - val_loss: 0.6339 - val_acc: 0.8613\n",
      "Epoch 3/20\n",
      "30/30 [==============================] - 1s 19ms/step - loss: 0.6042 - acc: 0.8659 - val_loss: 0.6163 - val_acc: 0.8498\n",
      "Epoch 4/20\n",
      "30/30 [==============================] - 1s 19ms/step - loss: 0.5749 - acc: 0.8717 - val_loss: 0.5983 - val_acc: 0.8500\n",
      "Epoch 5/20\n",
      "30/30 [==============================] - 1s 20ms/step - loss: 0.5558 - acc: 0.8728 - val_loss: 0.5609 - val_acc: 0.8685\n",
      "Epoch 6/20\n",
      "30/30 [==============================] - 1s 19ms/step - loss: 0.5465 - acc: 0.8731 - val_loss: 0.5750 - val_acc: 0.8538\n",
      "Epoch 7/20\n",
      "30/30 [==============================] - 1s 19ms/step - loss: 0.5372 - acc: 0.8781 - val_loss: 0.5426 - val_acc: 0.8718\n",
      "Epoch 8/20\n",
      "30/30 [==============================] - 1s 19ms/step - loss: 0.5214 - acc: 0.8794 - val_loss: 0.5730 - val_acc: 0.8556\n",
      "Epoch 9/20\n",
      "30/30 [==============================] - 1s 19ms/step - loss: 0.5206 - acc: 0.8817 - val_loss: 0.5522 - val_acc: 0.8649\n",
      "Epoch 10/20\n",
      "30/30 [==============================] - 1s 19ms/step - loss: 0.5092 - acc: 0.8851 - val_loss: 0.5663 - val_acc: 0.8545\n",
      "Epoch 11/20\n",
      "30/30 [==============================] - 1s 20ms/step - loss: 0.5089 - acc: 0.8833 - val_loss: 0.5422 - val_acc: 0.8681\n",
      "Epoch 12/20\n",
      "30/30 [==============================] - 1s 20ms/step - loss: 0.5026 - acc: 0.8857 - val_loss: 0.5208 - val_acc: 0.8768\n",
      "Epoch 13/20\n",
      "30/30 [==============================] - 1s 19ms/step - loss: 0.4948 - acc: 0.8871 - val_loss: 0.5351 - val_acc: 0.8710\n",
      "Epoch 14/20\n",
      "30/30 [==============================] - 1s 19ms/step - loss: 0.4941 - acc: 0.8875 - val_loss: 0.5178 - val_acc: 0.8798\n",
      "Epoch 15/20\n",
      "30/30 [==============================] - 1s 20ms/step - loss: 0.4929 - acc: 0.8869 - val_loss: 0.5224 - val_acc: 0.8782\n",
      "Epoch 16/20\n",
      "30/30 [==============================] - 1s 19ms/step - loss: 0.4799 - acc: 0.8960 - val_loss: 0.5869 - val_acc: 0.8395\n",
      "Epoch 17/20\n",
      "30/30 [==============================] - 1s 19ms/step - loss: 0.4811 - acc: 0.8949 - val_loss: 0.5291 - val_acc: 0.8702\n",
      "Epoch 18/20\n",
      "30/30 [==============================] - 1s 20ms/step - loss: 0.4823 - acc: 0.8931 - val_loss: 0.5387 - val_acc: 0.8632\n",
      "Epoch 19/20\n",
      "30/30 [==============================] - 1s 19ms/step - loss: 0.4772 - acc: 0.8955 - val_loss: 0.5134 - val_acc: 0.8791\n",
      "Epoch 20/20\n",
      "30/30 [==============================] - 1s 19ms/step - loss: 0.4696 - acc: 0.8984 - val_loss: 0.5109 - val_acc: 0.8794\n"
     ]
    },
    {
     "data": {
      "image/png": "[encoded data removed]",
      "text/plain": [
       "<Figure size 432x288 with 1 Axes>"
      ]
     },
     "metadata": {
      "needs_background": "light"
     },
     "output_type": "display_data"
    }
   ],
   "source": [
    "model6 = models.Sequential()\n",
    "model6.add(layers.Dense(16,kernel_regularizer=regularizers.l1_l2(l1=0.001,l2=0.001),\n",
    "                       activation='relu',input_shape=(10000,)))\n",
    "model6.add(layers.Dense(16,kernel_regularizer=regularizers.l1_l2(l1=0.001,l2=0.001),\n",
    "                      activation='relu'))\n",
    "model6.add(layers.Dense(1,activation='sigmoid'))\n",
    "\n",
    "model6.compile(optimizer='rmsprop',\n",
    "             loss='binary_crossentropy',\n",
    "             metrics=['acc'])\n",
    "\n",
    "history6 = model6.fit(partial_x_train,\n",
    "                   partial_y_train,\n",
    "                   epochs=20,\n",
    "                   batch_size=512,\n",
    "                   validation_data=(x_val,y_val))\n",
    "\n",
    "history6_dict = history6.history\n",
    "history6_dict.keys()\n",
    "\n",
    "loss_values_L1L2reg = history6_dict['val_loss']\n",
    "\n",
    "epochs = range(1, 21)\n",
    "\n",
    "plt.plot(epochs, val_loss_values, '+', label='Original model')\n",
    "plt.plot(epochs, loss_values_L1L2reg, 'bo', label='L1-L2-regularized model')\n",
    "plt.title('Original and L1-L2-regularized model validation loss')\n",
    "plt.xlabel('Epochs')\n",
    "plt.ylabel('Validation Loss')\n",
    "plt.legend()\n",
    "plt.show()"
   ]
  },
  {
   "cell_type": "markdown",
   "id": "50bf34e8",
   "metadata": {},
   "source": [
    "## Adding dropout\n",
    "\n",
    "Dropout is one of the most effective and most commonly used regularization techniques for neural networks. Dropout, applied to a layer, consists of randomly dropping out (setting to zero) a number of output features of the layer during training. Let’s say a given layer would normally return a vector [0.2, 0.5, 1.3, 0.8, 1.1] for a given input sample during training. After applying dropout, this vector will have a few zero entries distributed at random: for example, [0, 0.5, 1.3, 0, 1.1]. The dropout rate is the fraction of the features that are zeroed out; it’s usually set between 0.2 and 0.5. At test time, no units are dropped out; instead, the layer’s output values are scaled down by a factor equal to the dropout rate, to balance for the fact that more units are active than at training time.\n",
    "\n",
    "In Keras, you can introduce dropout in a network via the Dropout layer, which is applied to the output of the layer right before it:\n",
    "\n",
    "model.add(layers.Dropout(0.5))\n",
    "\n",
    "Let’s add two Dropout layers."
   ]
  },
  {
   "cell_type": "code",
   "execution_count": 34,
   "id": "b3d0ac3d",
   "metadata": {},
   "outputs": [
    {
     "name": "stdout",
     "output_type": "stream",
     "text": [
      "Epoch 1/20\n",
      "30/30 [==============================] - 2s 37ms/step - loss: 0.6260 - acc: 0.6384 - val_loss: 0.4875 - val_acc: 0.8466\n",
      "Epoch 2/20\n",
      "30/30 [==============================] - 1s 20ms/step - loss: 0.4815 - acc: 0.7763 - val_loss: 0.3621 - val_acc: 0.8774\n",
      "Epoch 3/20\n",
      "30/30 [==============================] - 1s 21ms/step - loss: 0.4002 - acc: 0.8345 - val_loss: 0.3202 - val_acc: 0.8871\n",
      "Epoch 4/20\n",
      "30/30 [==============================] - 1s 20ms/step - loss: 0.3399 - acc: 0.8753 - val_loss: 0.2875 - val_acc: 0.8857\n",
      "Epoch 5/20\n",
      "30/30 [==============================] - 1s 20ms/step - loss: 0.2943 - acc: 0.8977 - val_loss: 0.2782 - val_acc: 0.8900\n",
      "Epoch 6/20\n",
      "30/30 [==============================] - 1s 21ms/step - loss: 0.2568 - acc: 0.9117 - val_loss: 0.2757 - val_acc: 0.8878\n",
      "Epoch 7/20\n",
      "30/30 [==============================] - 1s 20ms/step - loss: 0.2243 - acc: 0.9240 - val_loss: 0.3390 - val_acc: 0.8785\n",
      "Epoch 8/20\n",
      "30/30 [==============================] - 1s 20ms/step - loss: 0.2043 - acc: 0.9334 - val_loss: 0.2900 - val_acc: 0.8917\n",
      "Epoch 9/20\n",
      "30/30 [==============================] - 1s 21ms/step - loss: 0.1806 - acc: 0.9428 - val_loss: 0.3025 - val_acc: 0.8887\n",
      "Epoch 10/20\n",
      "30/30 [==============================] - 1s 20ms/step - loss: 0.1603 - acc: 0.9495 - val_loss: 0.3178 - val_acc: 0.8883\n",
      "Epoch 11/20\n",
      "30/30 [==============================] - 1s 20ms/step - loss: 0.1469 - acc: 0.9547 - val_loss: 0.3509 - val_acc: 0.8887\n",
      "Epoch 12/20\n",
      "30/30 [==============================] - 1s 21ms/step - loss: 0.1319 - acc: 0.9600 - val_loss: 0.3656 - val_acc: 0.8849\n",
      "Epoch 13/20\n",
      "30/30 [==============================] - 1s 21ms/step - loss: 0.1194 - acc: 0.9636 - val_loss: 0.3840 - val_acc: 0.8877\n",
      "Epoch 14/20\n",
      "30/30 [==============================] - 1s 20ms/step - loss: 0.1099 - acc: 0.9672 - val_loss: 0.4036 - val_acc: 0.8866\n",
      "Epoch 15/20\n",
      "30/30 [==============================] - 1s 20ms/step - loss: 0.1071 - acc: 0.9687 - val_loss: 0.4474 - val_acc: 0.8890\n",
      "Epoch 16/20\n",
      "30/30 [==============================] - 1s 22ms/step - loss: 0.0932 - acc: 0.9716 - val_loss: 0.4610 - val_acc: 0.8863\n",
      "Epoch 17/20\n",
      "30/30 [==============================] - 1s 20ms/step - loss: 0.0927 - acc: 0.9740 - val_loss: 0.4671 - val_acc: 0.8879\n",
      "Epoch 18/20\n",
      "30/30 [==============================] - 1s 20ms/step - loss: 0.0874 - acc: 0.9737 - val_loss: 0.4840 - val_acc: 0.8826\n",
      "Epoch 19/20\n",
      "30/30 [==============================] - 1s 21ms/step - loss: 0.0832 - acc: 0.9751 - val_loss: 0.5125 - val_acc: 0.8864\n",
      "Epoch 20/20\n",
      "30/30 [==============================] - 1s 20ms/step - loss: 0.0750 - acc: 0.9774 - val_loss: 0.5664 - val_acc: 0.8864\n"
     ]
    },
    {
     "data": {
      "image/png": "[encoded data removed]",
      "text/plain": [
       "<Figure size 432x288 with 1 Axes>"
      ]
     },
     "metadata": {
      "needs_background": "light"
     },
     "output_type": "display_data"
    }
   ],
   "source": [
    "model7 = models.Sequential()\n",
    "model7.add(layers.Dense(16, activation='relu',input_shape=(10000,)))\n",
    "model7.add(layers.Dropout(0.5))\n",
    "model7.add(layers.Dense(16, activation='relu'))\n",
    "model7.add(layers.Dropout(0.5))\n",
    "model7.add(layers.Dense(1,activation='sigmoid'))\n",
    "\n",
    "model7.compile(optimizer='rmsprop',\n",
    "             loss='binary_crossentropy',\n",
    "             metrics=['acc'])\n",
    "\n",
    "history7 = model7.fit(partial_x_train,\n",
    "                   partial_y_train,\n",
    "                   epochs=20,\n",
    "                   batch_size=512,\n",
    "                   validation_data=(x_val,y_val))\n",
    "\n",
    "history7_dict = history7.history\n",
    "history7_dict.keys()\n",
    "\n",
    "loss_values_drop = history7_dict['val_loss']\n",
    "\n",
    "epochs = range(1, 21)\n",
    "\n",
    "plt.plot(epochs, val_loss_values, '+', label='Original model')\n",
    "plt.plot(epochs, loss_values_drop, 'bo', label='Dropout-regularized model')\n",
    "plt.title('Original and Dropout-regularized model validation loss')\n",
    "plt.xlabel('Epochs')\n",
    "plt.ylabel('Validation Loss')\n",
    "plt.legend()\n",
    "plt.show()"
   ]
  },
  {
   "cell_type": "markdown",
   "id": "0082a316",
   "metadata": {},
   "source": [
    "Τhis is a clear improvement over the reference network."
   ]
  }
 ],
 "metadata": {
  "kernelspec": {
   "display_name": "Python 3 (ipykernel)",
   "language": "python",
   "name": "python3"
  },
  "language_info": {
   "codemirror_mode": {
    "name": "ipython",
    "version": 3
   },
   "file_extension": ".py",
   "mimetype": "text/x-python",
   "name": "python",
   "nbconvert_exporter": "python",
   "pygments_lexer": "ipython3",
   "version": "3.8.8"
  }
 },
 "nbformat": 4,
 "nbformat_minor": 5
}
