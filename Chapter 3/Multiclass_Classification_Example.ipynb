{
 "cells": [
  {
   "cell_type": "markdown",
   "id": "97753e2d",
   "metadata": {},
   "source": [
    "# Classifying Newswires: a multiclass classification example\n",
    "\n",
    "In this notebook, we'll build a network to classify Reuters newswires into 46 mutually exclusive topics. This problem is a multiclass classification, more spesifically a single-label, multiclass classification cause each data points should be classified into only one category.\n",
    "\n",
    "We will work with Reuters dataset, a set of short newswires and their topics, published by Reuters in 1986. There are 46 different topics; some topics are more represented than others, but each topic has at least 10 examples in the training set."
   ]
  },
  {
   "cell_type": "code",
   "execution_count": 1,
   "id": "0b9f0757",
   "metadata": {},
   "outputs": [],
   "source": [
    "from keras.datasets import reuters\n",
    "\n",
    "(train_data, train_labels), (test_data, test_labels) = reuters.load_data(num_words=10000)"
   ]
  },
  {
   "cell_type": "markdown",
   "id": "d7d4ff23",
   "metadata": {},
   "source": [
    "The argument num_words=10000 restricts the data to the\n",
    "10,000 most frequently occurring words found in the data."
   ]
  },
  {
   "cell_type": "code",
   "execution_count": 2,
   "id": "028dd3d6",
   "metadata": {},
   "outputs": [
    {
     "data": {
      "text/plain": [
       "8982"
      ]
     },
     "execution_count": 2,
     "metadata": {},
     "output_type": "execute_result"
    }
   ],
   "source": [
    "len(train_data)"
   ]
  },
  {
   "cell_type": "code",
   "execution_count": 3,
   "id": "0cf0dbdf",
   "metadata": {},
   "outputs": [
    {
     "data": {
      "text/plain": [
       "2246"
      ]
     },
     "execution_count": 3,
     "metadata": {},
     "output_type": "execute_result"
    }
   ],
   "source": [
    "len(test_data)"
   ]
  },
  {
   "cell_type": "code",
   "execution_count": 4,
   "id": "cbad7bea",
   "metadata": {},
   "outputs": [
    {
     "data": {
      "text/plain": [
       "[1,\n",
       " 2,\n",
       " 2,\n",
       " 8,\n",
       " 43,\n",
       " 10,\n",
       " 447,\n",
       " 5,\n",
       " 25,\n",
       " 207,\n",
       " 270,\n",
       " 5,\n",
       " 3095,\n",
       " 111,\n",
       " 16,\n",
       " 369,\n",
       " 186,\n",
       " 90,\n",
       " 67,\n",
       " 7,\n",
       " 89,\n",
       " 5,\n",
       " 19,\n",
       " 102,\n",
       " 6,\n",
       " 19,\n",
       " 124,\n",
       " 15,\n",
       " 90,\n",
       " 67,\n",
       " 84,\n",
       " 22,\n",
       " 482,\n",
       " 26,\n",
       " 7,\n",
       " 48,\n",
       " 4,\n",
       " 49,\n",
       " 8,\n",
       " 864,\n",
       " 39,\n",
       " 209,\n",
       " 154,\n",
       " 6,\n",
       " 151,\n",
       " 6,\n",
       " 83,\n",
       " 11,\n",
       " 15,\n",
       " 22,\n",
       " 155,\n",
       " 11,\n",
       " 15,\n",
       " 7,\n",
       " 48,\n",
       " 9,\n",
       " 4579,\n",
       " 1005,\n",
       " 504,\n",
       " 6,\n",
       " 258,\n",
       " 6,\n",
       " 272,\n",
       " 11,\n",
       " 15,\n",
       " 22,\n",
       " 134,\n",
       " 44,\n",
       " 11,\n",
       " 15,\n",
       " 16,\n",
       " 8,\n",
       " 197,\n",
       " 1245,\n",
       " 90,\n",
       " 67,\n",
       " 52,\n",
       " 29,\n",
       " 209,\n",
       " 30,\n",
       " 32,\n",
       " 132,\n",
       " 6,\n",
       " 109,\n",
       " 15,\n",
       " 17,\n",
       " 12]"
      ]
     },
     "execution_count": 4,
     "metadata": {},
     "output_type": "execute_result"
    }
   ],
   "source": [
    "train_data[0]"
   ]
  },
  {
   "cell_type": "markdown",
   "id": "40c6523f",
   "metadata": {},
   "source": [
    "Here’s how you can decode it back to words, in case you’re curious."
   ]
  },
  {
   "cell_type": "code",
   "execution_count": 5,
   "id": "220cd64d",
   "metadata": {},
   "outputs": [],
   "source": [
    "word_index = reuters.get_word_index()"
   ]
  },
  {
   "cell_type": "code",
   "execution_count": 6,
   "id": "afbd816a",
   "metadata": {},
   "outputs": [],
   "source": [
    "reverse_word_index = dict([(value,key) for (key,value) in word_index.items()])\n",
    "decoded_newswire = ' '.join([reverse_word_index.get(i - 3, '?') for i in train_data[0]])"
   ]
  },
  {
   "cell_type": "code",
   "execution_count": 7,
   "id": "bc5857b0",
   "metadata": {},
   "outputs": [
    {
     "data": {
      "text/plain": [
       "'? ? ? said as a result of its december acquisition of space co it expects earnings per share in 1987 of 1 15 to 1 30 dlrs per share up from 70 cts in 1986 the company said pretax net should rise to nine to 10 mln dlrs from six mln dlrs in 1986 and rental operation revenues to 19 to 22 mln dlrs from 12 5 mln dlrs it said cash flow per share this year should be 2 50 to three dlrs reuter 3'"
      ]
     },
     "execution_count": 7,
     "metadata": {},
     "output_type": "execute_result"
    }
   ],
   "source": [
    "decoded_newswire"
   ]
  },
  {
   "cell_type": "markdown",
   "id": "453313c2",
   "metadata": {},
   "source": [
    "The label associated with an example is an integer between 0 and 45—a topic index:"
   ]
  },
  {
   "cell_type": "code",
   "execution_count": 8,
   "id": "c2020ded",
   "metadata": {},
   "outputs": [
    {
     "data": {
      "text/plain": [
       "3"
      ]
     },
     "execution_count": 8,
     "metadata": {},
     "output_type": "execute_result"
    }
   ],
   "source": [
    "train_labels[10]"
   ]
  },
  {
   "cell_type": "markdown",
   "id": "55fd93b7",
   "metadata": {},
   "source": [
    "## Preparing the data\n",
    "\n",
    "We vectorize the data."
   ]
  },
  {
   "cell_type": "code",
   "execution_count": 9,
   "id": "ea1da973",
   "metadata": {},
   "outputs": [],
   "source": [
    "import numpy as np\n",
    "\n",
    "def vectorize_sequences(sequences, dimension=10000):\n",
    "    results = np.zeros((len(sequences),dimension))\n",
    "    for i, sequence in enumerate(sequences):\n",
    "        results[i, sequence] = 1.\n",
    "    return results\n",
    "\n",
    "x_train = vectorize_sequences(train_data)\n",
    "x_test = vectorize_sequences(test_data)"
   ]
  },
  {
   "cell_type": "markdown",
   "id": "94776abc",
   "metadata": {},
   "source": [
    "Next we vectorize the labels. There are two ways:\n",
    "* Cast the label list as an integer tensor\n",
    "* Use one-hot encoding (used mainly for categorical data, also called categorical encoding.\n",
    "\n",
    "In this case, one-hot encoding of the labels consists of embedding each label as an all-zero vector with a 1 in the place of the label index. Here’s an example:"
   ]
  },
  {
   "cell_type": "code",
   "execution_count": 10,
   "id": "6835d24d",
   "metadata": {},
   "outputs": [],
   "source": [
    "def to_one_hot (labels,dimension=46):\n",
    "    results = np.zeros((len(labels),dimension))\n",
    "    for i, label in enumerate(labels):\n",
    "        results[i, label] = 1.\n",
    "    return results\n",
    "\n",
    "one_hot_train_labels = to_one_hot(train_labels)\n",
    "one_hot_test_labels = to_one_hot(test_labels)"
   ]
  },
  {
   "cell_type": "markdown",
   "id": "21ba7cfb",
   "metadata": {},
   "source": [
    "The built_in way to do this in Keras is:"
   ]
  },
  {
   "cell_type": "code",
   "execution_count": 11,
   "id": "0a485cc4",
   "metadata": {},
   "outputs": [],
   "source": [
    "from keras.utils.np_utils import to_categorical\n",
    "\n",
    "one_hot_train_labels = to_categorical(train_labels)\n",
    "one_hot_test_labels = to_categorical(test_labels)"
   ]
  },
  {
   "cell_type": "markdown",
   "id": "0f2c0263",
   "metadata": {},
   "source": [
    "## Building the network\n",
    "\n",
    "This topic-classification problem looks similar to the other notebook for movie review classification, but there is a new constraint here: here: the number of output classes has gone from 2 to 46. The dimensionality of the output space is much larger.\n",
    "\n",
    "In a stack of Dense layers like that you’ve been using, each layer can only access information present in the output of the previous layer. If one layer drops some information relevant to the classification problem, this information can never be recovered by later layers: each layer can potentially become an information bottleneck. In the previous example, you used 16-dimensional intermediate layers, but a 16-dimensional space may be too limited to learn to separate 46 different classes: such small layers may act as information bottlenecks, permanently dropping relevant information. For this reason you’ll use larger layers. \n",
    "\n",
    "Let’s go with 64 units."
   ]
  },
  {
   "cell_type": "code",
   "execution_count": 12,
   "id": "93a56377",
   "metadata": {},
   "outputs": [],
   "source": [
    "from keras import models\n",
    "from keras import layers\n",
    "\n",
    "model = models.Sequential()\n",
    "model.add(layers.Dense(64, activation='relu', input_shape=(10000,)))\n",
    "model.add(layers.Dense(64, activation='relu'))\n",
    "model.add(layers.Dense(46, activation='softmax'))"
   ]
  },
  {
   "cell_type": "markdown",
   "id": "ec6973eb",
   "metadata": {},
   "source": [
    "* We end the network with a Dense layer of size 46. This means for each input sample, the network will output a 46-dimensional vector. Each entry in this vector (each dimension) will encode a different output class.\n",
    "* The last layer uses the softmax activation. It means that the network will output a probability distribution over the 46 different output classes - for every input sample, the network will produce a 46-dimensional output vector, where output[i] is the probability that the sample belongs to the class i. The 46 scores will sum to 1.\n",
    "\n",
    "Finally to compile the model the best loss function in this case is categorical crossentropy. It measures the distance between two probability distributions: here, between the probability distribution output by the network and the true distribution of the labels. By minimising the distance between these two distributions, you train the network to output something as close as possible to the true labels."
   ]
  },
  {
   "cell_type": "code",
   "execution_count": 13,
   "id": "ac61be72",
   "metadata": {},
   "outputs": [],
   "source": [
    "model.compile(optimizer='rmsprop',\n",
    "             loss='categorical_crossentropy',\n",
    "             metrics=['accuracy'])"
   ]
  },
  {
   "cell_type": "markdown",
   "id": "1565573b",
   "metadata": {},
   "source": [
    "## Validating your approach\n",
    "\n",
    "Let’s set apart 1,000 samples in the training data to use as a validation set."
   ]
  },
  {
   "cell_type": "code",
   "execution_count": 14,
   "id": "1403dc44",
   "metadata": {},
   "outputs": [],
   "source": [
    "x_val = x_train[:1000]\n",
    "partial_x_train = x_train[1000:]\n",
    "\n",
    "y_val = one_hot_train_labels[:1000]\n",
    "partial_y_train = one_hot_train_labels[1000:]"
   ]
  },
  {
   "cell_type": "markdown",
   "id": "c9a59c3e",
   "metadata": {},
   "source": [
    "The training will take place for 20 epochs."
   ]
  },
  {
   "cell_type": "code",
   "execution_count": 15,
   "id": "d3cb3c8d",
   "metadata": {},
   "outputs": [
    {
     "name": "stdout",
     "output_type": "stream",
     "text": [
      "Epoch 1/20\n",
      "16/16 [==============================] - 2s 50ms/step - loss: 2.5536 - accuracy: 0.5026 - val_loss: 1.6944 - val_accuracy: 0.6360\n",
      "Epoch 2/20\n",
      "16/16 [==============================] - 0s 28ms/step - loss: 1.3943 - accuracy: 0.7075 - val_loss: 1.2720 - val_accuracy: 0.7190\n",
      "Epoch 3/20\n",
      "16/16 [==============================] - 0s 26ms/step - loss: 1.0357 - accuracy: 0.7823 - val_loss: 1.1035 - val_accuracy: 0.7710\n",
      "Epoch 4/20\n",
      "16/16 [==============================] - 0s 26ms/step - loss: 0.8159 - accuracy: 0.8275 - val_loss: 1.0250 - val_accuracy: 0.7870\n",
      "Epoch 5/20\n",
      "16/16 [==============================] - 0s 27ms/step - loss: 0.6545 - accuracy: 0.8606 - val_loss: 0.9619 - val_accuracy: 0.7990\n",
      "Epoch 6/20\n",
      "16/16 [==============================] - 0s 26ms/step - loss: 0.5240 - accuracy: 0.8876 - val_loss: 0.9288 - val_accuracy: 0.7970\n",
      "Epoch 7/20\n",
      "16/16 [==============================] - 0s 28ms/step - loss: 0.4306 - accuracy: 0.9080 - val_loss: 0.9026 - val_accuracy: 0.8050\n",
      "Epoch 8/20\n",
      "16/16 [==============================] - 0s 26ms/step - loss: 0.3508 - accuracy: 0.9257 - val_loss: 0.8811 - val_accuracy: 0.8200\n",
      "Epoch 9/20\n",
      "16/16 [==============================] - 0s 27ms/step - loss: 0.2862 - accuracy: 0.9369 - val_loss: 0.9064 - val_accuracy: 0.8090\n",
      "Epoch 10/20\n",
      "16/16 [==============================] - 0s 26ms/step - loss: 0.2424 - accuracy: 0.9446 - val_loss: 0.9155 - val_accuracy: 0.8130\n",
      "Epoch 11/20\n",
      "16/16 [==============================] - 0s 27ms/step - loss: 0.2152 - accuracy: 0.9481 - val_loss: 0.9793 - val_accuracy: 0.8070\n",
      "Epoch 12/20\n",
      "16/16 [==============================] - 0s 28ms/step - loss: 0.1874 - accuracy: 0.9506 - val_loss: 0.9361 - val_accuracy: 0.8110\n",
      "Epoch 13/20\n",
      "16/16 [==============================] - 0s 26ms/step - loss: 0.1637 - accuracy: 0.9543 - val_loss: 0.9801 - val_accuracy: 0.8040\n",
      "Epoch 14/20\n",
      "16/16 [==============================] - 0s 27ms/step - loss: 0.1511 - accuracy: 0.9533 - val_loss: 0.9693 - val_accuracy: 0.8010\n",
      "Epoch 15/20\n",
      "16/16 [==============================] - 0s 26ms/step - loss: 0.1375 - accuracy: 0.9559 - val_loss: 0.9636 - val_accuracy: 0.8090\n",
      "Epoch 16/20\n",
      "16/16 [==============================] - 0s 26ms/step - loss: 0.1327 - accuracy: 0.9560 - val_loss: 0.9750 - val_accuracy: 0.8150\n",
      "Epoch 17/20\n",
      "16/16 [==============================] - 0s 27ms/step - loss: 0.1252 - accuracy: 0.9560 - val_loss: 1.0631 - val_accuracy: 0.8000\n",
      "Epoch 18/20\n",
      "16/16 [==============================] - 0s 27ms/step - loss: 0.1193 - accuracy: 0.9570 - val_loss: 1.0329 - val_accuracy: 0.8070\n",
      "Epoch 19/20\n",
      "16/16 [==============================] - 0s 28ms/step - loss: 0.1155 - accuracy: 0.9563 - val_loss: 1.0484 - val_accuracy: 0.8000\n",
      "Epoch 20/20\n",
      "16/16 [==============================] - 0s 25ms/step - loss: 0.1111 - accuracy: 0.9584 - val_loss: 1.0711 - val_accuracy: 0.8120\n"
     ]
    }
   ],
   "source": [
    "history = model.fit(partial_x_train,\n",
    "                   partial_y_train,\n",
    "                   epochs=20,\n",
    "                   batch_size=512,\n",
    "                   validation_data=(x_val,y_val))"
   ]
  },
  {
   "cell_type": "code",
   "execution_count": 16,
   "id": "fbcc6d86",
   "metadata": {},
   "outputs": [
    {
     "data": {
      "image/png": "[encoded data removed]",
      "text/plain": [
       "<Figure size 432x288 with 1 Axes>"
      ]
     },
     "metadata": {
      "needs_background": "light"
     },
     "output_type": "display_data"
    }
   ],
   "source": [
    "import matplotlib.pyplot as plt\n",
    "\n",
    "loss = history.history['loss']\n",
    "val_loss = history.history['val_loss']\n",
    "\n",
    "epochs = range(1, len(loss) + 1)\n",
    "\n",
    "plt.plot(epochs, loss, 'bo', label='Training loss')\n",
    "plt.plot(epochs, val_loss, 'b', label='Validation loss')\n",
    "plt.title('Training and validation loss')\n",
    "plt.xlabel('Epochs')\n",
    "plt.ylabel('Loss')\n",
    "plt.legend()\n",
    "plt.show()"
   ]
  },
  {
   "cell_type": "code",
   "execution_count": 17,
   "id": "e46c245c",
   "metadata": {},
   "outputs": [
    {
     "data": {
      "text/plain": [
       "dict_keys(['loss', 'accuracy', 'val_loss', 'val_accuracy'])"
      ]
     },
     "execution_count": 17,
     "metadata": {},
     "output_type": "execute_result"
    }
   ],
   "source": [
    "history_dict = history.history\n",
    "history_dict.keys()"
   ]
  },
  {
   "cell_type": "code",
   "execution_count": 18,
   "id": "3e768a67",
   "metadata": {},
   "outputs": [
    {
     "data": {
      "image/png": "[encoded data removed]",
      "text/plain": [
       "<Figure size 432x288 with 1 Axes>"
      ]
     },
     "metadata": {
      "needs_background": "light"
     },
     "output_type": "display_data"
    }
   ],
   "source": [
    "plt.clf()\n",
    "\n",
    "acc = history.history['accuracy']\n",
    "val_acc = history.history['val_accuracy']\n",
    "\n",
    "plt.plot(epochs, acc, 'bo', label='Training acc')\n",
    "plt.plot(epochs, val_acc, 'b', label='Validation acc')\n",
    "plt.title('Training and validation accuracy')\n",
    "plt.xlabel('Epochs')\n",
    "plt.ylabel('Accuracy')\n",
    "plt.legend()\n",
    "plt.show()"
   ]
  },
  {
   "cell_type": "markdown",
   "id": "d7b10ef6",
   "metadata": {},
   "source": [
    "We observe that the network begins to overfit after nine epochs. Cosewuently we train a new network for nine epochs and then evaluate it on the test set."
   ]
  },
  {
   "cell_type": "code",
   "execution_count": 19,
   "id": "f6c1bfa4",
   "metadata": {},
   "outputs": [
    {
     "name": "stdout",
     "output_type": "stream",
     "text": [
      "Epoch 1/9\n",
      "18/18 [==============================] - 1s 22ms/step - loss: 2.5770 - accuracy: 0.5181\n",
      "Epoch 2/9\n",
      "18/18 [==============================] - 0s 21ms/step - loss: 1.3728 - accuracy: 0.7165\n",
      "Epoch 3/9\n",
      "18/18 [==============================] - 0s 21ms/step - loss: 1.0037 - accuracy: 0.7810\n",
      "Epoch 4/9\n",
      "18/18 [==============================] - 0s 21ms/step - loss: 0.7805 - accuracy: 0.8321\n",
      "Epoch 5/9\n",
      "18/18 [==============================] - 0s 21ms/step - loss: 0.6140 - accuracy: 0.8705\n",
      "Epoch 6/9\n",
      "18/18 [==============================] - 0s 21ms/step - loss: 0.4875 - accuracy: 0.8977\n",
      "Epoch 7/9\n",
      "18/18 [==============================] - 0s 21ms/step - loss: 0.3889 - accuracy: 0.9163\n",
      "Epoch 8/9\n",
      "18/18 [==============================] - 0s 21ms/step - loss: 0.3198 - accuracy: 0.9296\n",
      "Epoch 9/9\n",
      "18/18 [==============================] - 0s 20ms/step - loss: 0.2678 - accuracy: 0.9388\n",
      "71/71 [==============================] - 0s 3ms/step - loss: 0.9454 - accuracy: 0.7965\n"
     ]
    }
   ],
   "source": [
    "model = models.Sequential()\n",
    "model.add(layers.Dense(64,activation='relu',input_shape=(10000,)))\n",
    "model.add(layers.Dense(64,activation='relu'))\n",
    "model.add(layers.Dense(46,activation='softmax'))\n",
    "\n",
    "model.compile(optimizer='rmsprop',\n",
    "             loss='categorical_crossentropy',\n",
    "             metrics=['accuracy'])\n",
    "\n",
    "model.fit(x_train,\n",
    "          one_hot_train_labels,\n",
    "          epochs=9,\n",
    "          batch_size=512)\n",
    "results = model.evaluate(x_test,one_hot_test_labels)"
   ]
  },
  {
   "cell_type": "code",
   "execution_count": 20,
   "id": "4daaad43",
   "metadata": {},
   "outputs": [
    {
     "data": {
      "text/plain": [
       "[0.9454484581947327, 0.7965271472930908]"
      ]
     },
     "execution_count": 20,
     "metadata": {},
     "output_type": "execute_result"
    }
   ],
   "source": [
    "results"
   ]
  },
  {
   "cell_type": "markdown",
   "id": "fedffaaf",
   "metadata": {},
   "source": [
    "The accuracy reached by the model is about 80%. So the results are pretty good compared to a random baseline (about 19%)."
   ]
  },
  {
   "cell_type": "code",
   "execution_count": 21,
   "id": "a0de1805",
   "metadata": {},
   "outputs": [
    {
     "data": {
      "text/plain": [
       "0.18788958147818344"
      ]
     },
     "execution_count": 21,
     "metadata": {},
     "output_type": "execute_result"
    }
   ],
   "source": [
    "import copy\n",
    "test_labels_copy = copy.copy(test_labels)\n",
    "np.random.shuffle(test_labels_copy)\n",
    "hits_array = np.array(test_labels) == np.array(test_labels_copy)\n",
    "float(np.sum(hits_array)) / len(test_labels)"
   ]
  },
  {
   "cell_type": "markdown",
   "id": "12b85f78",
   "metadata": {},
   "source": [
    "## Generate predictions on new data"
   ]
  },
  {
   "cell_type": "code",
   "execution_count": 22,
   "id": "6189852d",
   "metadata": {},
   "outputs": [
    {
     "name": "stdout",
     "output_type": "stream",
     "text": [
      "71/71 [==============================] - 0s 3ms/step\n"
     ]
    }
   ],
   "source": [
    "predictions = model.predict(x_test)"
   ]
  },
  {
   "cell_type": "code",
   "execution_count": 23,
   "id": "39d14551",
   "metadata": {},
   "outputs": [
    {
     "data": {
      "text/plain": [
       "(46,)"
      ]
     },
     "execution_count": 23,
     "metadata": {},
     "output_type": "execute_result"
    }
   ],
   "source": [
    "predictions[0].shape"
   ]
  },
  {
   "cell_type": "code",
   "execution_count": 24,
   "id": "f7e875c6",
   "metadata": {},
   "outputs": [
    {
     "data": {
      "text/plain": [
       "array([6.04232882e-05, 8.92144599e-05, 2.87707917e-05, 8.61712098e-01,\n",
       "       1.24548949e-01, 9.41986073e-05, 8.91712079e-06, 1.56250477e-04,\n",
       "       2.30947672e-03, 1.59719802e-05, 8.08905388e-05, 1.74234374e-04,\n",
       "       5.36460866e-05, 2.91717675e-04, 9.35736462e-05, 6.21744912e-05,\n",
       "       1.27868238e-03, 2.44543445e-03, 3.04738860e-05, 2.76910258e-04,\n",
       "       1.69215281e-03, 3.34537792e-04, 8.54851969e-05, 1.18979160e-03,\n",
       "       5.48734761e-06, 1.89009166e-04, 1.32699452e-05, 2.26699740e-05,\n",
       "       1.22773054e-05, 1.95183107e-04, 4.23032936e-04, 1.19967790e-05,\n",
       "       1.73686822e-05, 9.17734269e-06, 4.20155993e-05, 8.30693079e-06,\n",
       "       4.15689341e-04, 8.11760910e-05, 1.86065990e-05, 1.13777176e-03,\n",
       "       3.16684600e-05, 1.10241555e-04, 2.04484513e-05, 2.69448410e-05,\n",
       "       8.81324522e-05, 5.54219150e-06], dtype=float32)"
      ]
     },
     "execution_count": 24,
     "metadata": {},
     "output_type": "execute_result"
    }
   ],
   "source": [
    "predictions[0]"
   ]
  },
  {
   "cell_type": "code",
   "execution_count": 25,
   "id": "dcd0f270",
   "metadata": {},
   "outputs": [],
   "source": [
    "predictions_percentage = predictions[0]*100"
   ]
  },
  {
   "cell_type": "code",
   "execution_count": 26,
   "id": "dc70094e",
   "metadata": {},
   "outputs": [
    {
     "data": {
      "text/plain": [
       "array([6.04232866e-03, 8.92144628e-03, 2.87707918e-03, 8.61712112e+01,\n",
       "       1.24548950e+01, 9.41986032e-03, 8.91712087e-04, 1.56250484e-02,\n",
       "       2.30947673e-01, 1.59719808e-03, 8.08905344e-03, 1.74234379e-02,\n",
       "       5.36460849e-03, 2.91717667e-02, 9.35736485e-03, 6.21744897e-03,\n",
       "       1.27868235e-01, 2.44543448e-01, 3.04738851e-03, 2.76910253e-02,\n",
       "       1.69215277e-01, 3.34537774e-02, 8.54851957e-03, 1.18979156e-01,\n",
       "       5.48734737e-04, 1.89009160e-02, 1.32699450e-03, 2.26699747e-03,\n",
       "       1.22773054e-03, 1.95183102e-02, 4.23032939e-02, 1.19967794e-03,\n",
       "       1.73686817e-03, 9.17734287e-04, 4.20155982e-03, 8.30693054e-04,\n",
       "       4.15689349e-02, 8.11760873e-03, 1.86065992e-03, 1.13777176e-01,\n",
       "       3.16684600e-03, 1.10241557e-02, 2.04484514e-03, 2.69448408e-03,\n",
       "       8.81324522e-03, 5.54219121e-04], dtype=float32)"
      ]
     },
     "execution_count": 26,
     "metadata": {},
     "output_type": "execute_result"
    }
   ],
   "source": [
    "predictions_percentage"
   ]
  },
  {
   "cell_type": "code",
   "execution_count": 27,
   "id": "31326a0e",
   "metadata": {},
   "outputs": [
    {
     "data": {
      "text/plain": [
       "array([ 3, 10,  1, ...,  3,  3, 24], dtype=int64)"
      ]
     },
     "execution_count": 27,
     "metadata": {},
     "output_type": "execute_result"
    }
   ],
   "source": [
    "test_labels"
   ]
  },
  {
   "cell_type": "code",
   "execution_count": 28,
   "id": "b8fcc1eb",
   "metadata": {},
   "outputs": [
    {
     "data": {
      "text/plain": [
       "3"
      ]
     },
     "execution_count": 28,
     "metadata": {},
     "output_type": "execute_result"
    }
   ],
   "source": [
    "np.argmax(predictions[0])"
   ]
  },
  {
   "cell_type": "markdown",
   "id": "92e9d6e4",
   "metadata": {},
   "source": [
    "## Different way to handle the labels and the loss\n",
    "\n",
    "Another way to encode the labels would be to cast them as\n",
    "an integer tensor, like this:"
   ]
  },
  {
   "cell_type": "code",
   "execution_count": 29,
   "id": "79dee49e",
   "metadata": {},
   "outputs": [],
   "source": [
    "y_train = np.array(train_labels)\n",
    "y_test = np.array(test_labels)"
   ]
  },
  {
   "cell_type": "markdown",
   "id": "df458935",
   "metadata": {},
   "source": [
    "So we have to change here the loss function. Instead of categorical_crossentropy we should use the sparse_categorical_crossentropy."
   ]
  },
  {
   "cell_type": "code",
   "execution_count": 30,
   "id": "a0172d9f",
   "metadata": {},
   "outputs": [
    {
     "name": "stdout",
     "output_type": "stream",
     "text": [
      "Epoch 1/9\n",
      "18/18 [==============================] - 1s 22ms/step - loss: 0.2527 - accuracy: 0.9407\n",
      "Epoch 2/9\n",
      "18/18 [==============================] - 0s 22ms/step - loss: 0.1945 - accuracy: 0.9508\n",
      "Epoch 3/9\n",
      "18/18 [==============================] - 0s 21ms/step - loss: 0.1799 - accuracy: 0.9488\n",
      "Epoch 4/9\n",
      "18/18 [==============================] - 0s 21ms/step - loss: 0.1600 - accuracy: 0.9529\n",
      "Epoch 5/9\n",
      "18/18 [==============================] - 0s 21ms/step - loss: 0.1526 - accuracy: 0.9523\n",
      "Epoch 6/9\n",
      "18/18 [==============================] - 0s 21ms/step - loss: 0.1402 - accuracy: 0.9527\n",
      "Epoch 7/9\n",
      "18/18 [==============================] - 0s 21ms/step - loss: 0.1367 - accuracy: 0.9548\n",
      "Epoch 8/9\n",
      "18/18 [==============================] - 0s 22ms/step - loss: 0.1289 - accuracy: 0.9547\n",
      "Epoch 9/9\n",
      "18/18 [==============================] - 0s 21ms/step - loss: 0.1238 - accuracy: 0.9534\n",
      "71/71 [==============================] - 0s 3ms/step - loss: 1.2113 - accuracy: 0.7836\n"
     ]
    }
   ],
   "source": [
    "model.compile(optimizer='rmsprop',\n",
    "             loss='sparse_categorical_crossentropy',\n",
    "             metrics=['accuracy'])\n",
    "\n",
    "model.fit(x_train,\n",
    "          y_train,\n",
    "          epochs=9,\n",
    "          batch_size=512)\n",
    "results = model.evaluate(x_test,y_test)"
   ]
  },
  {
   "cell_type": "code",
   "execution_count": 31,
   "id": "02d2bccb",
   "metadata": {},
   "outputs": [
    {
     "data": {
      "text/plain": [
       "[1.2112807035446167, 0.7836152911186218]"
      ]
     },
     "execution_count": 31,
     "metadata": {},
     "output_type": "execute_result"
    }
   ],
   "source": [
    "results"
   ]
  },
  {
   "cell_type": "markdown",
   "id": "318ce875",
   "metadata": {},
   "source": [
    "This new loss function is still mathematically the same as  categorical_crossentropy; it just has a different interface.\n",
    "\n",
    "## Having sufficiently large intermediate layers\n",
    "\n",
    "Let's see what happens when we introduce a information bottleneck by having intemediate layers that are significantly less than 46-dimensional: for example 4-dimensional"
   ]
  },
  {
   "cell_type": "code",
   "execution_count": 32,
   "id": "e7037cef",
   "metadata": {},
   "outputs": [],
   "source": [
    "model_new = models.Sequential()\n",
    "model_new.add(layers.Dense(64,activation='relu',input_shape=(10000,)))\n",
    "model_new.add(layers.Dense(4,activation='relu'))\n",
    "model_new.add(layers.Dense(46,activation='softmax'))"
   ]
  },
  {
   "cell_type": "code",
   "execution_count": 38,
   "id": "ab8afc2c",
   "metadata": {},
   "outputs": [
    {
     "name": "stdout",
     "output_type": "stream",
     "text": [
      "Epoch 1/20\n",
      "63/63 [==============================] - 2s 22ms/step - loss: 0.2948 - accuracy: 0.9142 - val_loss: 3.9734 - val_accuracy: 0.6880\n",
      "Epoch 2/20\n",
      "63/63 [==============================] - 1s 13ms/step - loss: 0.2873 - accuracy: 0.9153 - val_loss: 3.9930 - val_accuracy: 0.6890\n",
      "Epoch 3/20\n",
      "63/63 [==============================] - 1s 13ms/step - loss: 0.2844 - accuracy: 0.9151 - val_loss: 3.9845 - val_accuracy: 0.6960\n",
      "Epoch 4/20\n",
      "63/63 [==============================] - 1s 13ms/step - loss: 0.2811 - accuracy: 0.9168 - val_loss: 3.8936 - val_accuracy: 0.6910\n",
      "Epoch 5/20\n",
      "63/63 [==============================] - 1s 13ms/step - loss: 0.2774 - accuracy: 0.9159 - val_loss: 4.0656 - val_accuracy: 0.6860\n",
      "Epoch 6/20\n",
      "63/63 [==============================] - 1s 13ms/step - loss: 0.2764 - accuracy: 0.9177 - val_loss: 4.2179 - val_accuracy: 0.6850\n",
      "Epoch 7/20\n",
      "63/63 [==============================] - 1s 14ms/step - loss: 0.2748 - accuracy: 0.9172 - val_loss: 4.3176 - val_accuracy: 0.6800\n",
      "Epoch 8/20\n",
      "63/63 [==============================] - 1s 13ms/step - loss: 0.2748 - accuracy: 0.9184 - val_loss: 4.2549 - val_accuracy: 0.6800\n",
      "Epoch 9/20\n",
      "63/63 [==============================] - 1s 13ms/step - loss: 0.2694 - accuracy: 0.9178 - val_loss: 4.3323 - val_accuracy: 0.6840\n",
      "Epoch 10/20\n",
      "63/63 [==============================] - 1s 13ms/step - loss: 0.2695 - accuracy: 0.9189 - val_loss: 4.4298 - val_accuracy: 0.6800\n",
      "Epoch 11/20\n",
      "63/63 [==============================] - 1s 13ms/step - loss: 0.2653 - accuracy: 0.9182 - val_loss: 4.3502 - val_accuracy: 0.6840\n",
      "Epoch 12/20\n",
      "63/63 [==============================] - 1s 13ms/step - loss: 0.2676 - accuracy: 0.9192 - val_loss: 4.6045 - val_accuracy: 0.6850\n",
      "Epoch 13/20\n",
      "63/63 [==============================] - 1s 14ms/step - loss: 0.2649 - accuracy: 0.9192 - val_loss: 4.6047 - val_accuracy: 0.6880\n",
      "Epoch 14/20\n",
      "63/63 [==============================] - 1s 13ms/step - loss: 0.2624 - accuracy: 0.9193 - val_loss: 4.6605 - val_accuracy: 0.6830\n",
      "Epoch 15/20\n",
      "63/63 [==============================] - 1s 13ms/step - loss: 0.2579 - accuracy: 0.9213 - val_loss: 4.6579 - val_accuracy: 0.6840\n",
      "Epoch 16/20\n",
      "63/63 [==============================] - 1s 13ms/step - loss: 0.2603 - accuracy: 0.9192 - val_loss: 4.7966 - val_accuracy: 0.6790\n",
      "Epoch 17/20\n",
      "63/63 [==============================] - 1s 14ms/step - loss: 0.2549 - accuracy: 0.9202 - val_loss: 4.7973 - val_accuracy: 0.6740\n",
      "Epoch 18/20\n",
      "63/63 [==============================] - 1s 13ms/step - loss: 0.2543 - accuracy: 0.9216 - val_loss: 4.9357 - val_accuracy: 0.6830\n",
      "Epoch 19/20\n",
      "63/63 [==============================] - 1s 13ms/step - loss: 0.2562 - accuracy: 0.9209 - val_loss: 4.9820 - val_accuracy: 0.6750\n",
      "Epoch 20/20\n",
      "63/63 [==============================] - 1s 14ms/step - loss: 0.2524 - accuracy: 0.9218 - val_loss: 5.0055 - val_accuracy: 0.6750\n"
     ]
    },
    {
     "data": {
      "text/plain": [
       "<keras.callbacks.History at 0x2a3ada51fd0>"
      ]
     },
     "execution_count": 38,
     "metadata": {},
     "output_type": "execute_result"
    }
   ],
   "source": [
    "model_new.compile(optimizer='rmsprop',\n",
    "                 loss='categorical_crossentropy',\n",
    "                 metrics=['accuracy'])\n",
    "model_new.fit(partial_x_train,\n",
    "             partial_y_train,\n",
    "             epochs=20,\n",
    "             batch_size=128,\n",
    "             validation_data=(x_val,y_val))"
   ]
  },
  {
   "cell_type": "code",
   "execution_count": 39,
   "id": "6575d348",
   "metadata": {},
   "outputs": [
    {
     "name": "stdout",
     "output_type": "stream",
     "text": [
      "71/71 [==============================] - 0s 3ms/step - loss: 5.6948 - accuracy: 0.6714\n"
     ]
    }
   ],
   "source": [
    "results = model_new.evaluate(x_test,one_hot_test_labels)"
   ]
  },
  {
   "cell_type": "code",
   "execution_count": 40,
   "id": "bcc5cd44",
   "metadata": {},
   "outputs": [
    {
     "data": {
      "text/plain": [
       "[5.694803714752197, 0.6714158654212952]"
      ]
     },
     "execution_count": 40,
     "metadata": {},
     "output_type": "execute_result"
    }
   ],
   "source": [
    "results"
   ]
  },
  {
   "cell_type": "markdown",
   "id": "d18f3d23",
   "metadata": {},
   "source": [
    "It is apparent a absolute drop of the validation accuracy. This drop\n",
    "is mostly due to the fact that you’re trying to compress a lot of information (enough information to recover the separation hyperplanes of 46 classes) into an intermediate space that is too low-dimensional. The network is able to cram most of the necessary information into these four-dimensional representations, but not all of it."
   ]
  },
  {
   "cell_type": "markdown",
   "id": "69563ecf",
   "metadata": {},
   "source": [
    "## Further experiments\n",
    "* Try using larger or smaller layers: 32 units, 128 units, and so on.\n",
    "* You used two hidden layers. Now try using a single hidden layer, or three hidden layers."
   ]
  }
 ],
 "metadata": {
  "kernelspec": {
   "display_name": "Python 3 (ipykernel)",
   "language": "python",
   "name": "python3"
  },
  "language_info": {
   "codemirror_mode": {
    "name": "ipython",
    "version": 3
   },
   "file_extension": ".py",
   "mimetype": "text/x-python",
   "name": "python",
   "nbconvert_exporter": "python",
   "pygments_lexer": "ipython3",
   "version": "3.8.8"
  }
 },
 "nbformat": 4,
 "nbformat_minor": 5
}
